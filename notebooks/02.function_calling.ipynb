{
 "cells": [
  {
   "cell_type": "code",
   "execution_count": 1,
   "metadata": {},
   "outputs": [],
   "source": [
    "import os\n",
    "import warnings\n",
    "\n",
    "warnings.simplefilter(action=\"ignore\")\n",
    "os.environ[\"GRPC_VERBOSITY\"] = \"NONE\""
   ]
  },
  {
   "cell_type": "markdown",
   "metadata": {},
   "source": [
    "# Prerequisites"
   ]
  },
  {
   "cell_type": "markdown",
   "metadata": {},
   "source": [
    "Please make sure your environmental variables and dependencies are ready to use LLM services."
   ]
  },
  {
   "cell_type": "code",
   "execution_count": 2,
   "metadata": {},
   "outputs": [
    {
     "data": {
      "text/plain": [
       "True"
      ]
     },
     "execution_count": 2,
     "metadata": {},
     "output_type": "execute_result"
    }
   ],
   "source": [
    "from dotenv import load_dotenv\n",
    "\n",
    "load_dotenv(\"../../.env_api\")"
   ]
  },
  {
   "cell_type": "markdown",
   "metadata": {},
   "source": [
    "# How to input langrila's modules"
   ]
  },
  {
   "cell_type": "markdown",
   "metadata": {},
   "source": [
    "In langrila, universal message system allows you to handle each client message in a same way."
   ]
  },
  {
   "cell_type": "markdown",
   "metadata": {},
   "source": [
    "# Import modules"
   ]
  },
  {
   "cell_type": "code",
   "execution_count": 3,
   "metadata": {},
   "outputs": [],
   "source": [
    "from langrila import (\n",
    "    InMemoryConversationMemory,\n",
    "    ToolConfig,\n",
    "    ToolParameter,\n",
    "    ToolProperty,\n",
    ")\n",
    "from langrila.claude import ClaudeFunctionalChat\n",
    "from langrila.gemini import GeminiFunctionalChat\n",
    "from langrila.openai import OpenAIFunctionalChat"
   ]
  },
  {
   "cell_type": "markdown",
   "metadata": {},
   "source": [
    "# Define tools"
   ]
  },
  {
   "cell_type": "markdown",
   "metadata": {},
   "source": [
    "In this example, we can use these tools."
   ]
  },
  {
   "cell_type": "code",
   "execution_count": 4,
   "metadata": {},
   "outputs": [],
   "source": [
    "def power_disco_ball(power: bool) -> bool:\n",
    "    \"\"\"Powers the spinning disco ball.\"\"\"\n",
    "    return f\"Disco ball is {'spinning!' if power else 'stopped.'}\"\n",
    "\n",
    "\n",
    "def start_music(energetic: bool, loud: bool, bpm: str) -> str:\n",
    "    \"\"\"Play some music matching the specified parameters.\n",
    "\n",
    "    Args:\n",
    "      energetic: Whether the music is energetic or not.\n",
    "      loud: Whether the music is loud or not.\n",
    "      bpm: The beats per minute of the music.\n",
    "\n",
    "    Returns: The name of the song being played.\n",
    "    \"\"\"\n",
    "    return f\"Starting music! {energetic=} {loud=}, {bpm=}\"\n",
    "\n",
    "\n",
    "def dim_lights(brightness: float) -> bool:\n",
    "    \"\"\"Dim the lights.\n",
    "\n",
    "    Args:\n",
    "      brightness: The brightness of the lights, 0.0 is off, 1.0 is full.\n",
    "    \"\"\"\n",
    "    return f\"Lights are now set to {brightness}\""
   ]
  },
  {
   "cell_type": "markdown",
   "metadata": {},
   "source": [
    "# Tool definition"
   ]
  },
  {
   "cell_type": "markdown",
   "metadata": {},
   "source": [
    "In langrila, you can define tool configs via ToolProperty, ToolParameter and ToolConfig object."
   ]
  },
  {
   "cell_type": "code",
   "execution_count": 5,
   "metadata": {},
   "outputs": [],
   "source": [
    "tool_configs = [\n",
    "    ToolConfig(\n",
    "        name=\"power_disco_ball\",\n",
    "        description=\"Powers the spinning disco ball.\",\n",
    "        parameters=ToolParameter(\n",
    "            properties=[\n",
    "                ToolProperty(\n",
    "                    name=\"power\",\n",
    "                    type=\"boolean\",\n",
    "                    description=\"Boolean to spin disco ball.\",\n",
    "                ),\n",
    "            ],\n",
    "            required=[\"power\"],\n",
    "        ),\n",
    "    ),\n",
    "    ToolConfig(\n",
    "        name=\"start_music\",\n",
    "        description=\"Play some music matching the specified parameters.\",\n",
    "        parameters=ToolParameter(\n",
    "            properties=[\n",
    "                ToolProperty(\n",
    "                    name=\"energetic\",\n",
    "                    type=\"boolean\",\n",
    "                    description=\"Whether the music is energetic or not.\",\n",
    "                ),\n",
    "                ToolProperty(\n",
    "                    name=\"loud\", type=\"boolean\", description=\"Whether the music is loud or not.\"\n",
    "                ),\n",
    "                ToolProperty(\n",
    "                    name=\"bpm\",\n",
    "                    type=\"string\",\n",
    "                    description=\"The beats per minute of the music.\",\n",
    "                    enum=[\"60\", \"120\", \"180\"],  # Gemini doesn't support numerical enum\n",
    "                ),\n",
    "            ],\n",
    "            required=[\"energetic\", \"loud\", \"bpm\"],\n",
    "        ),\n",
    "    ),\n",
    "    ToolConfig(\n",
    "        name=\"dim_lights\",\n",
    "        description=\"Dim the lights.\",\n",
    "        parameters=ToolParameter(\n",
    "            properties=[\n",
    "                ToolProperty(\n",
    "                    name=\"brightness\",\n",
    "                    type=\"number\",\n",
    "                    description=\"The brightness of the lights, 0.0 is off, 1.0 is full.\",\n",
    "                ),\n",
    "            ],\n",
    "            required=[\"brightness\"],\n",
    "        ),\n",
    "    ),\n",
    "]"
   ]
  },
  {
   "cell_type": "code",
   "execution_count": 6,
   "metadata": {},
   "outputs": [],
   "source": [
    "prompt = \"Turn this place into a comfortable party mood!\""
   ]
  },
  {
   "cell_type": "markdown",
   "metadata": {},
   "source": [
    "### OpenAI Chat Completion"
   ]
  },
  {
   "cell_type": "markdown",
   "metadata": {},
   "source": [
    "ToolConfig object is internally converted to client tool configs"
   ]
  },
  {
   "cell_type": "code",
   "execution_count": 7,
   "metadata": {},
   "outputs": [],
   "source": [
    "chat_openai = OpenAIFunctionalChat(\n",
    "    api_key_env_name=\"API_KEY\",\n",
    "    model_name=\"gpt-4o-2024-08-06\",\n",
    "    tools=[power_disco_ball, start_music, dim_lights],\n",
    "    tool_configs=tool_configs,\n",
    ")"
   ]
  },
  {
   "cell_type": "code",
   "execution_count": 8,
   "metadata": {},
   "outputs": [
    {
     "data": {
      "text/plain": [
       "CompletionResults(message=Message(role='assistant', content=[TextContent(text='The party is ready to rock! The disco ball is spinning, energetic music is playing at 120 BPM, and the lights are dimmed for the perfect atmosphere. Enjoy the party!')], name=None), usage=Usage(prompt_tokens=134, completion_tokens=37, total_tokens=171), prompt=[{'role': 'user', 'content': [{'type': 'text', 'text': 'Turn this place into a comfortable party mood!'}], 'name': 'User'}, {'content': None, 'refusal': None, 'role': 'assistant', 'function_call': None, 'tool_calls': [{'id': 'call_85oWCBUl3U86loELycmpDNGd', 'function': {'arguments': '{\"power\": true}', 'name': 'power_disco_ball'}, 'type': 'function'}, {'id': 'call_piPDMWyNeJVKT6r2oI9RmhAL', 'function': {'arguments': '{\"energetic\": true, \"loud\": true, \"bpm\": \"120\"}', 'name': 'start_music'}, 'type': 'function'}, {'id': 'call_xFdpvOdIhlmkKsziyZSHZ5Qh', 'function': {'arguments': '{\"brightness\": 0.3}', 'name': 'dim_lights'}, 'type': 'function'}]}, {'role': 'tool', 'tool_call_id': 'call_85oWCBUl3U86loELycmpDNGd', 'name': 'power_disco_ball', 'content': 'Disco ball is spinning!'}, {'role': 'tool', 'tool_call_id': 'call_piPDMWyNeJVKT6r2oI9RmhAL', 'name': 'start_music', 'content': \"Starting music! energetic=True loud=True, bpm='120'\"}, {'role': 'tool', 'tool_call_id': 'call_xFdpvOdIhlmkKsziyZSHZ5Qh', 'name': 'dim_lights', 'content': 'Lights are now set to 0.3'}])"
      ]
     },
     "execution_count": 8,
     "metadata": {},
     "output_type": "execute_result"
    }
   ],
   "source": [
    "response = chat_openai.run(prompt)\n",
    "\n",
    "# Response is CompletionResults object\n",
    "response"
   ]
  },
  {
   "cell_type": "code",
   "execution_count": 9,
   "metadata": {},
   "outputs": [
    {
     "data": {
      "text/plain": [
       "{'message': {'role': 'assistant',\n",
       "  'content': [{'text': 'The party is ready to rock! The disco ball is spinning, energetic music is playing at 120 BPM, and the lights are dimmed for the perfect atmosphere. Enjoy the party!'}],\n",
       "  'name': None},\n",
       " 'usage': {'model_name': 'gpt-4o-2024-08-06',\n",
       "  'prompt_tokens': 134,\n",
       "  'completion_tokens': 37},\n",
       " 'prompt': [{'role': 'user',\n",
       "   'content': [{'type': 'text',\n",
       "     'text': 'Turn this place into a comfortable party mood!'}],\n",
       "   'name': 'User'},\n",
       "  {'content': None,\n",
       "   'refusal': None,\n",
       "   'role': 'assistant',\n",
       "   'function_call': None,\n",
       "   'tool_calls': [{'id': 'call_85oWCBUl3U86loELycmpDNGd',\n",
       "     'function': {'arguments': '{\"power\": true}', 'name': 'power_disco_ball'},\n",
       "     'type': 'function'},\n",
       "    {'id': 'call_piPDMWyNeJVKT6r2oI9RmhAL',\n",
       "     'function': {'arguments': '{\"energetic\": true, \"loud\": true, \"bpm\": \"120\"}',\n",
       "      'name': 'start_music'},\n",
       "     'type': 'function'},\n",
       "    {'id': 'call_xFdpvOdIhlmkKsziyZSHZ5Qh',\n",
       "     'function': {'arguments': '{\"brightness\": 0.3}', 'name': 'dim_lights'},\n",
       "     'type': 'function'}]},\n",
       "  {'role': 'tool',\n",
       "   'tool_call_id': 'call_85oWCBUl3U86loELycmpDNGd',\n",
       "   'name': 'power_disco_ball',\n",
       "   'content': 'Disco ball is spinning!'},\n",
       "  {'role': 'tool',\n",
       "   'tool_call_id': 'call_piPDMWyNeJVKT6r2oI9RmhAL',\n",
       "   'name': 'start_music',\n",
       "   'content': \"Starting music! energetic=True loud=True, bpm='120'\"},\n",
       "  {'role': 'tool',\n",
       "   'tool_call_id': 'call_xFdpvOdIhlmkKsziyZSHZ5Qh',\n",
       "   'name': 'dim_lights',\n",
       "   'content': 'Lights are now set to 0.3'}]}"
      ]
     },
     "execution_count": 9,
     "metadata": {},
     "output_type": "execute_result"
    }
   ],
   "source": [
    "response.model_dump()"
   ]
  },
  {
   "cell_type": "markdown",
   "metadata": {},
   "source": [
    "Asynchronous generation"
   ]
  },
  {
   "cell_type": "code",
   "execution_count": 10,
   "metadata": {},
   "outputs": [
    {
     "data": {
      "text/plain": [
       "CompletionResults(message=Message(role='assistant', content=[TextContent(text='The place is now set for a comfortable party mood! The disco ball is spinning, energetic music is playing at a lively 120 bpm, and the lights are dimmed to create the perfect atmosphere. Enjoy the party!')], name=None), usage=Usage(prompt_tokens=134, completion_tokens=44, total_tokens=178), prompt=[{'role': 'user', 'content': [{'type': 'text', 'text': 'Turn this place into a comfortable party mood!'}], 'name': 'User'}, {'content': None, 'refusal': None, 'role': 'assistant', 'function_call': None, 'tool_calls': [{'id': 'call_zGHKavv1gwDLH0c0siJsTY4k', 'function': {'arguments': '{\"power\": true}', 'name': 'power_disco_ball'}, 'type': 'function'}, {'id': 'call_bm7wkchdfHT5gNPdsSVVm1uR', 'function': {'arguments': '{\"energetic\": true, \"loud\": true, \"bpm\": \"120\"}', 'name': 'start_music'}, 'type': 'function'}, {'id': 'call_RKWt5QFDRM74PWp6dXuijpzK', 'function': {'arguments': '{\"brightness\": 0.5}', 'name': 'dim_lights'}, 'type': 'function'}]}, {'role': 'tool', 'tool_call_id': 'call_zGHKavv1gwDLH0c0siJsTY4k', 'name': 'power_disco_ball', 'content': 'Disco ball is spinning!'}, {'role': 'tool', 'tool_call_id': 'call_bm7wkchdfHT5gNPdsSVVm1uR', 'name': 'start_music', 'content': \"Starting music! energetic=True loud=True, bpm='120'\"}, {'role': 'tool', 'tool_call_id': 'call_RKWt5QFDRM74PWp6dXuijpzK', 'name': 'dim_lights', 'content': 'Lights are now set to 0.5'}])"
      ]
     },
     "execution_count": 10,
     "metadata": {},
     "output_type": "execute_result"
    }
   ],
   "source": [
    "response = await chat_openai.arun(prompt)\n",
    "response"
   ]
  },
  {
   "cell_type": "markdown",
   "metadata": {},
   "source": [
    "multiple generation"
   ]
  },
  {
   "cell_type": "code",
   "execution_count": 11,
   "metadata": {},
   "outputs": [
    {
     "data": {
      "text/plain": [
       "{'role': 'assistant',\n",
       " 'content': [{'text': 'The place is now in a comfortable party mood! The lights are dimmed, energetic music is playing at a lively 120 BPM, and the disco ball is spinning. Enjoy the party!'},\n",
       "  {'text': 'The place is now set for a comfortable party mood! The lights are dimmed to create the right ambiance, energetic music is playing at 120 bpm, and the disco ball is spinning its magic. Enjoy the party!'}],\n",
       " 'name': None}"
      ]
     },
     "execution_count": 11,
     "metadata": {},
     "output_type": "execute_result"
    }
   ],
   "source": [
    "response = chat_openai.run(prompt, n_results=2)\n",
    "response.message.model_dump()"
   ]
  },
  {
   "cell_type": "markdown",
   "metadata": {},
   "source": [
    "You can get the results from specific tool."
   ]
  },
  {
   "cell_type": "code",
   "execution_count": 12,
   "metadata": {},
   "outputs": [
    {
     "data": {
      "text/plain": [
       "{'message': {'role': 'assistant',\n",
       "  'content': [{'text': \"I've started some energetic music to set the party mood! Let me know if there's anything else you need to make this place feel more lively!\"}],\n",
       "  'name': None},\n",
       " 'usage': {'model_name': 'gpt-4o-2024-08-06',\n",
       "  'prompt_tokens': 64,\n",
       "  'completion_tokens': 28},\n",
       " 'prompt': [{'role': 'user',\n",
       "   'content': [{'type': 'text',\n",
       "     'text': 'Turn this place into a comfortable party mood!'}],\n",
       "   'name': 'User'},\n",
       "  {'content': None,\n",
       "   'refusal': None,\n",
       "   'role': 'assistant',\n",
       "   'function_call': None,\n",
       "   'tool_calls': [{'id': 'call_2fegUgC5CmzxZZTqbvWqEtzm',\n",
       "     'function': {'arguments': '{\"energetic\":true,\"loud\":true,\"bpm\":\"120\"}',\n",
       "      'name': 'start_music'},\n",
       "     'type': 'function'}]},\n",
       "  {'role': 'tool',\n",
       "   'tool_call_id': 'call_2fegUgC5CmzxZZTqbvWqEtzm',\n",
       "   'name': 'start_music',\n",
       "   'content': \"Starting music! energetic=True loud=True, bpm='120'\"}]}"
      ]
     },
     "execution_count": 12,
     "metadata": {},
     "output_type": "execute_result"
    }
   ],
   "source": [
    "response = chat_openai.run(prompt, tool_choice=\"start_music\")\n",
    "\n",
    "# Show result\n",
    "response.model_dump()"
   ]
  },
  {
   "cell_type": "markdown",
   "metadata": {},
   "source": [
    "If you specify tool_only option as True, you get the FunctionCallingResults object instead of CompletionResults object."
   ]
  },
  {
   "cell_type": "code",
   "execution_count": 13,
   "metadata": {},
   "outputs": [
    {
     "data": {
      "text/plain": [
       "FunctionCallingResults(usage=Usage(prompt_tokens=171, completion_tokens=75, total_tokens=246), results=[Message(role='function', content=[ToolContent(output=\"Starting music! energetic=True loud=True, bpm='120'\", call_id='call_UkDvmOyWNYu4RZyGGiO73ogX', args='{\"energetic\": true, \"loud\": true, \"bpm\": \"120\"}', funcname='start_music')], name='start_music'), Message(role='function', content=[ToolContent(output='Lights are now set to 0.5', call_id='call_0UC2UXaVGtMAR69iGOoN0h82', args='{\"brightness\": 0.5}', funcname='dim_lights')], name='dim_lights'), Message(role='function', content=[ToolContent(output='Disco ball is spinning!', call_id='call_pMIHur0uOhZBMMEEZmQN50n4', args='{\"power\": true}', funcname='power_disco_ball')], name='power_disco_ball')], calls=Message(role='function_call', content=[ToolCall(name='start_music', args='{\"energetic\": true, \"loud\": true, \"bpm\": \"120\"}', call_id='call_UkDvmOyWNYu4RZyGGiO73ogX'), ToolCall(name='dim_lights', args='{\"brightness\": 0.5}', call_id='call_0UC2UXaVGtMAR69iGOoN0h82'), ToolCall(name='power_disco_ball', args='{\"power\": true}', call_id='call_pMIHur0uOhZBMMEEZmQN50n4')], name=None), prompt=[{'role': 'user', 'content': [{'type': 'text', 'text': 'Turn this place into a comfortable party mood!'}], 'name': 'User'}])"
      ]
     },
     "execution_count": 13,
     "metadata": {},
     "output_type": "execute_result"
    }
   ],
   "source": [
    "response = chat_openai.run(prompt, tool_only=True)\n",
    "response"
   ]
  },
  {
   "cell_type": "code",
   "execution_count": 14,
   "metadata": {},
   "outputs": [
    {
     "data": {
      "text/plain": [
       "{'usage': {'model_name': 'gpt-4o-2024-08-06',\n",
       "  'prompt_tokens': 171,\n",
       "  'completion_tokens': 75},\n",
       " 'results': [{'role': 'function',\n",
       "   'content': [{'output': \"Starting music! energetic=True loud=True, bpm='120'\",\n",
       "     'call_id': 'call_UkDvmOyWNYu4RZyGGiO73ogX',\n",
       "     'args': '{\"energetic\": true, \"loud\": true, \"bpm\": \"120\"}',\n",
       "     'funcname': 'start_music'}],\n",
       "   'name': 'start_music'},\n",
       "  {'role': 'function',\n",
       "   'content': [{'output': 'Lights are now set to 0.5',\n",
       "     'call_id': 'call_0UC2UXaVGtMAR69iGOoN0h82',\n",
       "     'args': '{\"brightness\": 0.5}',\n",
       "     'funcname': 'dim_lights'}],\n",
       "   'name': 'dim_lights'},\n",
       "  {'role': 'function',\n",
       "   'content': [{'output': 'Disco ball is spinning!',\n",
       "     'call_id': 'call_pMIHur0uOhZBMMEEZmQN50n4',\n",
       "     'args': '{\"power\": true}',\n",
       "     'funcname': 'power_disco_ball'}],\n",
       "   'name': 'power_disco_ball'}],\n",
       " 'calls': {'role': 'function_call',\n",
       "  'content': [{'name': 'start_music',\n",
       "    'args': '{\"energetic\": true, \"loud\": true, \"bpm\": \"120\"}',\n",
       "    'call_id': 'call_UkDvmOyWNYu4RZyGGiO73ogX'},\n",
       "   {'name': 'dim_lights',\n",
       "    'args': '{\"brightness\": 0.5}',\n",
       "    'call_id': 'call_0UC2UXaVGtMAR69iGOoN0h82'},\n",
       "   {'name': 'power_disco_ball',\n",
       "    'args': '{\"power\": true}',\n",
       "    'call_id': 'call_pMIHur0uOhZBMMEEZmQN50n4'}],\n",
       "  'name': None},\n",
       " 'prompt': [{'role': 'user',\n",
       "   'content': [{'type': 'text',\n",
       "     'text': 'Turn this place into a comfortable party mood!'}],\n",
       "   'name': 'User'}]}"
      ]
     },
     "execution_count": 14,
     "metadata": {},
     "output_type": "execute_result"
    }
   ],
   "source": [
    "response.model_dump()"
   ]
  },
  {
   "cell_type": "code",
   "execution_count": 15,
   "metadata": {},
   "outputs": [
    {
     "data": {
      "text/plain": [
       "[Message(role='function', content=[ToolContent(output=\"Starting music! energetic=True loud=True, bpm='120'\", call_id='call_UkDvmOyWNYu4RZyGGiO73ogX', args='{\"energetic\": true, \"loud\": true, \"bpm\": \"120\"}', funcname='start_music')], name='start_music'),\n",
       " Message(role='function', content=[ToolContent(output='Lights are now set to 0.5', call_id='call_0UC2UXaVGtMAR69iGOoN0h82', args='{\"brightness\": 0.5}', funcname='dim_lights')], name='dim_lights'),\n",
       " Message(role='function', content=[ToolContent(output='Disco ball is spinning!', call_id='call_pMIHur0uOhZBMMEEZmQN50n4', args='{\"power\": true}', funcname='power_disco_ball')], name='power_disco_ball')]"
      ]
     },
     "execution_count": 15,
     "metadata": {},
     "output_type": "execute_result"
    }
   ],
   "source": [
    "# Tool result messages\n",
    "\n",
    "response.results"
   ]
  },
  {
   "cell_type": "code",
   "execution_count": 16,
   "metadata": {},
   "outputs": [
    {
     "data": {
      "text/plain": [
       "Message(role='function_call', content=[ToolCall(name='start_music', args='{\"energetic\": true, \"loud\": true, \"bpm\": \"120\"}', call_id='call_UkDvmOyWNYu4RZyGGiO73ogX'), ToolCall(name='dim_lights', args='{\"brightness\": 0.5}', call_id='call_0UC2UXaVGtMAR69iGOoN0h82'), ToolCall(name='power_disco_ball', args='{\"power\": true}', call_id='call_pMIHur0uOhZBMMEEZmQN50n4')], name=None)"
      ]
     },
     "execution_count": 16,
     "metadata": {},
     "output_type": "execute_result"
    }
   ],
   "source": [
    "# Tool call messages\n",
    "\n",
    "response.calls"
   ]
  },
  {
   "cell_type": "markdown",
   "metadata": {},
   "source": [
    "# Pydantic tools"
   ]
  },
  {
   "cell_type": "markdown",
   "metadata": {},
   "source": [
    "You can define tools as pydantic models. To use pydantic model as tool, make sure the following points: \n",
    "\n",
    "- Write description of top level docstring field in the class. This is used for tool description.\n",
    "- Define each argument fileds with description\n",
    "- Implement run() method."
   ]
  },
  {
   "cell_type": "markdown",
   "metadata": {},
   "source": [
    "Tool definition using `ToolProperty`, `ToolParameter` and `ToolConfig` is almost equivalent to the following way. "
   ]
  },
  {
   "cell_type": "code",
   "execution_count": 17,
   "metadata": {},
   "outputs": [],
   "source": [
    "from enum import Enum\n",
    "from typing import Literal\n",
    "\n",
    "from pydantic import BaseModel, Field\n",
    "\n",
    "\n",
    "class PowerDiscoBall(BaseModel):\n",
    "    \"\"\"Powers the spinning disco ball.\"\"\"\n",
    "\n",
    "    power: bool = Field(description=\"Boolean to spin disco ball.\")\n",
    "\n",
    "    def run(self) -> str:\n",
    "        return f\"Disco ball is {'spinning!' if self.power else 'stopped.'}\"\n",
    "\n",
    "\n",
    "class DimLights(BaseModel):\n",
    "    \"\"\"Dim the lights.\"\"\"\n",
    "\n",
    "    brightness: float = Field(description=\"The brightness of the lights, 0.0 is off, 1.0 is full.\")\n",
    "\n",
    "    def run(self) -> str:\n",
    "        return f\"Lights are now set to {self.brightness}\"\n",
    "\n",
    "\n",
    "class BPM(Enum):\n",
    "    \"\"\"The beats per minute of the music.\"\"\"\n",
    "\n",
    "    SLOW = \"60\"\n",
    "    MEDIUM = \"120\"\n",
    "    FAST = \"180\"\n",
    "\n",
    "\n",
    "class StartMusic(BaseModel):\n",
    "    \"\"\"Play some music matching the specified parameters.\"\"\"\n",
    "\n",
    "    energetic: bool = Field(description=\"Whether the music is energetic or not.\")\n",
    "    loud: bool = Field(description=\"Whether the music is loud or not.\")\n",
    "    bpm: BPM = Field(description=\"The beats per minute of the music.\")\n",
    "    # bpm: Literal[\"60\", \"120\", \"180\"] = Field(..., description=\"The beats per minute of the music.\") # This also works\n",
    "\n",
    "    def run(self) -> str:\n",
    "        return f\"Starting music! {self.energetic=} {self.loud=}, {self.bpm=}\""
   ]
  },
  {
   "cell_type": "code",
   "execution_count": 18,
   "metadata": {},
   "outputs": [],
   "source": [
    "# Convert to ToolConfig\n",
    "\n",
    "tools = [PowerDiscoBall, StartMusic, DimLights]\n",
    "tool_configs_pydantic = [ToolConfig.from_pydantic(tool) for tool in tools]"
   ]
  },
  {
   "cell_type": "code",
   "execution_count": 19,
   "metadata": {},
   "outputs": [],
   "source": [
    "chat_openai = OpenAIFunctionalChat(\n",
    "    api_key_env_name=\"API_KEY\",\n",
    "    model_name=\"gpt-4o-mini-2024-07-18\",\n",
    "    tools=tools,\n",
    "    tool_configs=tool_configs_pydantic,\n",
    ")"
   ]
  },
  {
   "cell_type": "code",
   "execution_count": 20,
   "metadata": {},
   "outputs": [
    {
     "data": {
      "text/plain": [
       "{'message': {'role': 'assistant',\n",
       "  'content': [{'text': 'The party mood is on! The disco ball is spinning, the energetic music is playing loudly at a lively 120 BPM, and the lights have been dimmed to create the perfect ambiance. Enjoy the celebration! 🎉💃🕺'}],\n",
       "  'name': None},\n",
       " 'usage': {'model_name': 'gpt-4o-mini-2024-07-18',\n",
       "  'prompt_tokens': 150,\n",
       "  'completion_tokens': 49},\n",
       " 'prompt': [{'role': 'user',\n",
       "   'content': [{'type': 'text',\n",
       "     'text': 'Turn this place into a comfortable party mood!'}],\n",
       "   'name': 'User'},\n",
       "  {'content': None,\n",
       "   'refusal': None,\n",
       "   'role': 'assistant',\n",
       "   'function_call': None,\n",
       "   'tool_calls': [{'id': 'call_nfa2UmaXduldrBWj8quiN9wa',\n",
       "     'function': {'arguments': '{\"power\": true}', 'name': 'PowerDiscoBall'},\n",
       "     'type': 'function'},\n",
       "    {'id': 'call_dZzToMx7DKVNO4ZPUS6CqvDG',\n",
       "     'function': {'arguments': '{\"energetic\": true, \"loud\": true, \"bpm\": \"120\"}',\n",
       "      'name': 'StartMusic'},\n",
       "     'type': 'function'},\n",
       "    {'id': 'call_EQwJrPbzb1c3AvvaK8w5dLuB',\n",
       "     'function': {'arguments': '{\"brightness\": 0.5}', 'name': 'DimLights'},\n",
       "     'type': 'function'}]},\n",
       "  {'role': 'tool',\n",
       "   'tool_call_id': 'call_nfa2UmaXduldrBWj8quiN9wa',\n",
       "   'name': 'PowerDiscoBall',\n",
       "   'content': 'Disco ball is spinning!'},\n",
       "  {'role': 'tool',\n",
       "   'tool_call_id': 'call_dZzToMx7DKVNO4ZPUS6CqvDG',\n",
       "   'name': 'StartMusic',\n",
       "   'content': \"Starting music! self.energetic=True self.loud=True, self.bpm=<BPM.MEDIUM: '120'>\"},\n",
       "  {'role': 'tool',\n",
       "   'tool_call_id': 'call_EQwJrPbzb1c3AvvaK8w5dLuB',\n",
       "   'name': 'DimLights',\n",
       "   'content': 'Lights are now set to 0.5'}]}"
      ]
     },
     "execution_count": 20,
     "metadata": {},
     "output_type": "execute_result"
    }
   ],
   "source": [
    "response = chat_openai.run(prompt)\n",
    "\n",
    "# Response is CompletionResults object\n",
    "response.model_dump()"
   ]
  },
  {
   "cell_type": "markdown",
   "metadata": {},
   "source": [
    "### Array property for OpenAI API"
   ]
  },
  {
   "cell_type": "markdown",
   "metadata": {},
   "source": [
    "Function Calling with array property for OpenAI Chat Completion."
   ]
  },
  {
   "cell_type": "code",
   "execution_count": 21,
   "metadata": {},
   "outputs": [],
   "source": [
    "def get_ingredients(ingredients: list[str]) -> str:\n",
    "    \"\"\"Prepare ingredients to make a meal.\"\"\"\n",
    "    return f\"Preparing {ingredients}.\"\n",
    "\n",
    "\n",
    "tool_configs_array = [\n",
    "    ToolConfig(\n",
    "        name=\"get_ingredients\",\n",
    "        description=\"Prepare ingredients to make a meal.\",\n",
    "        parameters=ToolParameter(\n",
    "            properties=[\n",
    "                ToolProperty(\n",
    "                    name=\"ingredients\",\n",
    "                    type=\"array\",\n",
    "                    description=\"List of ingredients.\",\n",
    "                    items={\"type\": \"string\"},\n",
    "                ),\n",
    "            ],\n",
    "            required=[\"ingredients\"],\n",
    "        ),\n",
    "    ),\n",
    "]"
   ]
  },
  {
   "cell_type": "code",
   "execution_count": 22,
   "metadata": {},
   "outputs": [],
   "source": [
    "chat_openai = OpenAIFunctionalChat(\n",
    "    api_key_env_name=\"API_KEY\",\n",
    "    model_name=\"gpt-4o-2024-08-06\",\n",
    "    tools=[get_ingredients],\n",
    "    tool_configs=tool_configs_array,\n",
    ")"
   ]
  },
  {
   "cell_type": "code",
   "execution_count": 23,
   "metadata": {},
   "outputs": [
    {
     "data": {
      "text/plain": [
       "{'message': {'role': 'assistant',\n",
       "  'content': [{'text': \"To make omelet rice, you'll need the following ingredients:\\n\\n- Rice\\n- Eggs\\n- Onion\\n- Carrot\\n- Green peas\\n- Chicken (or another protein of your choice)\\n- Soy sauce\\n- Ketchup\\n- Butter\\n- Salt\\n- Pepper\\n- Vegetable oil\\n\\nThese ingredients will help you create a delicious and hearty omelet rice dish. Enjoy cooking!\"}],\n",
       "  'name': None},\n",
       " 'usage': {'model_name': 'gpt-4o-2024-08-06',\n",
       "  'prompt_tokens': 125,\n",
       "  'completion_tokens': 78},\n",
       " 'prompt': [{'role': 'user',\n",
       "   'content': [{'type': 'text',\n",
       "     'text': 'What are the ingredients to make omelet rice?'}],\n",
       "   'name': 'User'},\n",
       "  {'content': None,\n",
       "   'refusal': None,\n",
       "   'role': 'assistant',\n",
       "   'function_call': None,\n",
       "   'tool_calls': [{'id': 'call_pDl8lSQ6ASRhm92GwriS4HY3',\n",
       "     'function': {'arguments': '{\"ingredients\":[\"rice\",\"eggs\",\"onion\",\"carrot\",\"green peas\",\"chicken\",\"soy sauce\",\"ketchup\",\"butter\",\"salt\",\"pepper\",\"vegetable oil\"]}',\n",
       "      'name': 'get_ingredients'},\n",
       "     'type': 'function'}]},\n",
       "  {'role': 'tool',\n",
       "   'tool_call_id': 'call_pDl8lSQ6ASRhm92GwriS4HY3',\n",
       "   'name': 'get_ingredients',\n",
       "   'content': \"Preparing ['rice', 'eggs', 'onion', 'carrot', 'green peas', 'chicken', 'soy sauce', 'ketchup', 'butter', 'salt', 'pepper', 'vegetable oil'].\"}]}"
      ]
     },
     "execution_count": 23,
     "metadata": {},
     "output_type": "execute_result"
    }
   ],
   "source": [
    "response = chat_openai.run(\n",
    "    prompt=\"What are the ingredients to make omelet rice?\",\n",
    "    tool_choice=\"get_ingredients\",\n",
    ")\n",
    "response.model_dump()"
   ]
  },
  {
   "cell_type": "markdown",
   "metadata": {},
   "source": [
    "### Azure OpenAI Chat Completion "
   ]
  },
  {
   "cell_type": "code",
   "execution_count": 24,
   "metadata": {},
   "outputs": [],
   "source": [
    "chat_openai_azure = OpenAIFunctionalChat(\n",
    "    api_key_env_name=\"AZURE_API_KEY\",\n",
    "    model_name=\"gpt-4o-2024-05-13\",\n",
    "    api_type=\"azure\",\n",
    "    api_version=\"2024-05-01-preview\",\n",
    "    endpoint_env_name=\"AZURE_ENDPOINT\",\n",
    "    deployment_id_env_name=\"AZURE_DEPLOYMENT_ID\",\n",
    "    tools=[power_disco_ball, start_music, dim_lights],\n",
    "    tool_configs=tool_configs,\n",
    ")"
   ]
  },
  {
   "cell_type": "code",
   "execution_count": 25,
   "metadata": {},
   "outputs": [
    {
     "data": {
      "text/plain": [
       "{'message': {'role': 'assistant',\n",
       "  'content': [{'text': \"The lights are dimmed to a cozy level, the disco ball is spinning, and the energetic music is pumping at 120 BPM. Let's get this party started!\"}],\n",
       "  'name': None},\n",
       " 'usage': {'model_name': 'gpt-4o-2024-05-13',\n",
       "  'prompt_tokens': 135,\n",
       "  'completion_tokens': 33},\n",
       " 'prompt': [{'role': 'user',\n",
       "   'content': [{'type': 'text',\n",
       "     'text': 'Turn this place into a comfortable party mood!'}],\n",
       "   'name': 'User'},\n",
       "  {'content': None,\n",
       "   'refusal': None,\n",
       "   'role': 'assistant',\n",
       "   'function_call': None,\n",
       "   'tool_calls': [{'id': 'call_3kkXzWYUSKFQPAayGEoEHY89',\n",
       "     'function': {'arguments': '{\"brightness\": 0.5}', 'name': 'dim_lights'},\n",
       "     'type': 'function'},\n",
       "    {'id': 'call_5ZgpdhzOtiLwq6F7yHHoH5va',\n",
       "     'function': {'arguments': '{\"power\": true}', 'name': 'power_disco_ball'},\n",
       "     'type': 'function'},\n",
       "    {'id': 'call_DNigWCiQnPtmDKYWR3l1JnPl',\n",
       "     'function': {'arguments': '{\"energetic\": true, \"loud\": true, \"bpm\": \"120\"}',\n",
       "      'name': 'start_music'},\n",
       "     'type': 'function'}]},\n",
       "  {'role': 'tool',\n",
       "   'tool_call_id': 'call_3kkXzWYUSKFQPAayGEoEHY89',\n",
       "   'name': 'dim_lights',\n",
       "   'content': 'Lights are now set to 0.5'},\n",
       "  {'role': 'tool',\n",
       "   'tool_call_id': 'call_5ZgpdhzOtiLwq6F7yHHoH5va',\n",
       "   'name': 'power_disco_ball',\n",
       "   'content': 'Disco ball is spinning!'},\n",
       "  {'role': 'tool',\n",
       "   'tool_call_id': 'call_DNigWCiQnPtmDKYWR3l1JnPl',\n",
       "   'name': 'start_music',\n",
       "   'content': \"Starting music! energetic=True loud=True, bpm='120'\"}]}"
      ]
     },
     "execution_count": 25,
     "metadata": {},
     "output_type": "execute_result"
    }
   ],
   "source": [
    "response = chat_openai_azure.run(prompt)\n",
    "\n",
    "response.model_dump()"
   ]
  },
  {
   "cell_type": "code",
   "execution_count": 26,
   "metadata": {},
   "outputs": [
    {
     "data": {
      "text/plain": [
       "{'message': {'role': 'assistant',\n",
       "  'content': [{'text': 'The lights are dimmed to a cozy level, the energetic music is pumping at 120 BPM, and the disco ball is spinning! The party mood is set. Enjoy!'}],\n",
       "  'name': None},\n",
       " 'usage': {'model_name': 'gpt-4o-2024-05-13',\n",
       "  'prompt_tokens': 135,\n",
       "  'completion_tokens': 35},\n",
       " 'prompt': [{'role': 'user',\n",
       "   'content': [{'type': 'text',\n",
       "     'text': 'Turn this place into a comfortable party mood!'}],\n",
       "   'name': 'User'},\n",
       "  {'content': None,\n",
       "   'refusal': None,\n",
       "   'role': 'assistant',\n",
       "   'function_call': None,\n",
       "   'tool_calls': [{'id': 'call_u7s2Rrv9U0rjWMfawW0kWDCx',\n",
       "     'function': {'arguments': '{\"brightness\": 0.5}', 'name': 'dim_lights'},\n",
       "     'type': 'function'},\n",
       "    {'id': 'call_7W0ZZ7SJyD9cTH6GpA9jWfZY',\n",
       "     'function': {'arguments': '{\"energetic\": true, \"loud\": true, \"bpm\": \"120\"}',\n",
       "      'name': 'start_music'},\n",
       "     'type': 'function'},\n",
       "    {'id': 'call_7bee5cr9ijXuQKZDiCQZWSru',\n",
       "     'function': {'arguments': '{\"power\": true}', 'name': 'power_disco_ball'},\n",
       "     'type': 'function'}]},\n",
       "  {'role': 'tool',\n",
       "   'tool_call_id': 'call_u7s2Rrv9U0rjWMfawW0kWDCx',\n",
       "   'name': 'dim_lights',\n",
       "   'content': 'Lights are now set to 0.5'},\n",
       "  {'role': 'tool',\n",
       "   'tool_call_id': 'call_7W0ZZ7SJyD9cTH6GpA9jWfZY',\n",
       "   'name': 'start_music',\n",
       "   'content': \"Starting music! energetic=True loud=True, bpm='120'\"},\n",
       "  {'role': 'tool',\n",
       "   'tool_call_id': 'call_7bee5cr9ijXuQKZDiCQZWSru',\n",
       "   'name': 'power_disco_ball',\n",
       "   'content': 'Disco ball is spinning!'}]}"
      ]
     },
     "execution_count": 26,
     "metadata": {},
     "output_type": "execute_result"
    }
   ],
   "source": [
    "response = await chat_openai_azure.arun(prompt)\n",
    "\n",
    "response.model_dump()"
   ]
  },
  {
   "cell_type": "code",
   "execution_count": 27,
   "metadata": {},
   "outputs": [
    {
     "data": {
      "text/plain": [
       "{'message': {'role': 'assistant',\n",
       "  'content': [{'text': \"Let's get this party started! 🎉\\n\\n- **Lighting:** Dim the lights and set some colorful mood lighting or fairy lights.\\n- **Decorations:** Add some fun decorations like balloons, streamers, and banners.\\n- **Seating:** Arrange comfortable seating areas where people can relax and chat.\\n- **Food & Drinks:** Set up a snack table with finger foods and a variety of drinks.\\n- **Games & Activities:** Prepare some party games or a dance floor for dancing.\\n\\nAnything specific you need help with next?\"}],\n",
       "  'name': None},\n",
       " 'usage': {'model_name': 'gpt-4o-2024-05-13',\n",
       "  'prompt_tokens': 64,\n",
       "  'completion_tokens': 105},\n",
       " 'prompt': [{'role': 'user',\n",
       "   'content': [{'type': 'text',\n",
       "     'text': 'Turn this place into a comfortable party mood!'}],\n",
       "   'name': 'User'},\n",
       "  {'content': None,\n",
       "   'refusal': None,\n",
       "   'role': 'assistant',\n",
       "   'function_call': None,\n",
       "   'tool_calls': [{'id': 'call_amJWypa3VDqeRTRy3tviN222',\n",
       "     'function': {'arguments': '{\"energetic\":true,\"loud\":true,\"bpm\":\"120\"}',\n",
       "      'name': 'start_music'},\n",
       "     'type': 'function'}]},\n",
       "  {'role': 'tool',\n",
       "   'tool_call_id': 'call_amJWypa3VDqeRTRy3tviN222',\n",
       "   'name': 'start_music',\n",
       "   'content': \"Starting music! energetic=True loud=True, bpm='120'\"}]}"
      ]
     },
     "execution_count": 27,
     "metadata": {},
     "output_type": "execute_result"
    }
   ],
   "source": [
    "response = chat_openai_azure.run(prompt, tool_choice=\"start_music\")\n",
    "\n",
    "response.model_dump()"
   ]
  },
  {
   "cell_type": "markdown",
   "metadata": {},
   "source": [
    "### Gemini on Google Generative AI"
   ]
  },
  {
   "cell_type": "markdown",
   "metadata": {},
   "source": [
    "You can use tools for Gemini as well which defined for OpenAI Chat Completion."
   ]
  },
  {
   "cell_type": "code",
   "execution_count": 29,
   "metadata": {},
   "outputs": [],
   "source": [
    "gemini = GeminiFunctionalChat(\n",
    "    api_key_env_name=\"GEMINI_API_KEY\",\n",
    "    model_name=\"gemini-1.5-pro\",\n",
    "    tools=[power_disco_ball, start_music, dim_lights],\n",
    "    tool_configs=tool_configs,\n",
    ")"
   ]
  },
  {
   "cell_type": "code",
   "execution_count": 30,
   "metadata": {},
   "outputs": [
    {
     "data": {
      "text/plain": [
       "{'message': {'role': 'assistant',\n",
       "  'content': [{'text': \"Alright, everyone, get ready to party! I've dimmed the lights, cranked up some energetic tunes, and even got the disco ball spinning. Let's get this party started! 🎉 \\n\"}],\n",
       "  'name': None},\n",
       " 'usage': {'model_name': 'gemini-1.5-pro',\n",
       "  'prompt_tokens': 145,\n",
       "  'completion_tokens': 40},\n",
       " 'prompt': [parts {\n",
       "    text: \"Turn this place into a comfortable party mood!\"\n",
       "  }\n",
       "  role: \"user\",\n",
       "  parts {\n",
       "    function_call {\n",
       "      name: \"dim_lights\"\n",
       "      args {\n",
       "        fields {\n",
       "          key: \"brightness\"\n",
       "          value {\n",
       "            number_value: 0.5\n",
       "          }\n",
       "        }\n",
       "      }\n",
       "    }\n",
       "  }\n",
       "  parts {\n",
       "    function_call {\n",
       "      name: \"start_music\"\n",
       "      args {\n",
       "        fields {\n",
       "          key: \"loud\"\n",
       "          value {\n",
       "            bool_value: true\n",
       "          }\n",
       "        }\n",
       "        fields {\n",
       "          key: \"energetic\"\n",
       "          value {\n",
       "            bool_value: true\n",
       "          }\n",
       "        }\n",
       "        fields {\n",
       "          key: \"bpm\"\n",
       "          value {\n",
       "            string_value: \"120\"\n",
       "          }\n",
       "        }\n",
       "      }\n",
       "    }\n",
       "  }\n",
       "  parts {\n",
       "    function_call {\n",
       "      name: \"power_disco_ball\"\n",
       "      args {\n",
       "        fields {\n",
       "          key: \"power\"\n",
       "          value {\n",
       "            bool_value: true\n",
       "          }\n",
       "        }\n",
       "      }\n",
       "    }\n",
       "  }\n",
       "  role: \"model\",\n",
       "  parts {\n",
       "    function_response {\n",
       "      name: \"dim_lights\"\n",
       "      response {\n",
       "        fields {\n",
       "          key: \"content\"\n",
       "          value {\n",
       "            string_value: \"Lights are now set to 0.5\"\n",
       "          }\n",
       "        }\n",
       "      }\n",
       "    }\n",
       "  }\n",
       "  parts {\n",
       "    function_response {\n",
       "      name: \"start_music\"\n",
       "      response {\n",
       "        fields {\n",
       "          key: \"content\"\n",
       "          value {\n",
       "            string_value: \"Starting music! energetic=True loud=True, bpm=\\'120\\'\"\n",
       "          }\n",
       "        }\n",
       "      }\n",
       "    }\n",
       "  }\n",
       "  parts {\n",
       "    function_response {\n",
       "      name: \"power_disco_ball\"\n",
       "      response {\n",
       "        fields {\n",
       "          key: \"content\"\n",
       "          value {\n",
       "            string_value: \"Disco ball is spinning!\"\n",
       "          }\n",
       "        }\n",
       "      }\n",
       "    }\n",
       "  }\n",
       "  role: \"function\"]}"
      ]
     },
     "execution_count": 30,
     "metadata": {},
     "output_type": "execute_result"
    }
   ],
   "source": [
    "response = gemini.run(prompt)\n",
    "\n",
    "# show result\n",
    "response.model_dump()"
   ]
  },
  {
   "cell_type": "markdown",
   "metadata": {},
   "source": [
    "Asynchronous generation"
   ]
  },
  {
   "cell_type": "code",
   "execution_count": 31,
   "metadata": {},
   "outputs": [
    {
     "data": {
      "text/plain": [
       "{'message': {'role': 'assistant',\n",
       "  'content': [{'text': \"Alright, I've started the music, dimmed the lights, and the disco ball is going! Let's get this party started! 🎉 \\n\"}],\n",
       "  'name': None},\n",
       " 'usage': {'model_name': 'gemini-1.5-pro',\n",
       "  'prompt_tokens': 145,\n",
       "  'completion_tokens': 29},\n",
       " 'prompt': [parts {\n",
       "    text: \"Turn this place into a comfortable party mood!\"\n",
       "  }\n",
       "  role: \"user\",\n",
       "  parts {\n",
       "    function_call {\n",
       "      name: \"power_disco_ball\"\n",
       "      args {\n",
       "        fields {\n",
       "          key: \"power\"\n",
       "          value {\n",
       "            bool_value: true\n",
       "          }\n",
       "        }\n",
       "      }\n",
       "    }\n",
       "  }\n",
       "  parts {\n",
       "    function_call {\n",
       "      name: \"start_music\"\n",
       "      args {\n",
       "        fields {\n",
       "          key: \"loud\"\n",
       "          value {\n",
       "            bool_value: true\n",
       "          }\n",
       "        }\n",
       "        fields {\n",
       "          key: \"energetic\"\n",
       "          value {\n",
       "            bool_value: true\n",
       "          }\n",
       "        }\n",
       "        fields {\n",
       "          key: \"bpm\"\n",
       "          value {\n",
       "            string_value: \"120\"\n",
       "          }\n",
       "        }\n",
       "      }\n",
       "    }\n",
       "  }\n",
       "  parts {\n",
       "    function_call {\n",
       "      name: \"dim_lights\"\n",
       "      args {\n",
       "        fields {\n",
       "          key: \"brightness\"\n",
       "          value {\n",
       "            number_value: 0.5\n",
       "          }\n",
       "        }\n",
       "      }\n",
       "    }\n",
       "  }\n",
       "  role: \"model\",\n",
       "  parts {\n",
       "    function_response {\n",
       "      name: \"power_disco_ball\"\n",
       "      response {\n",
       "        fields {\n",
       "          key: \"content\"\n",
       "          value {\n",
       "            string_value: \"Disco ball is spinning!\"\n",
       "          }\n",
       "        }\n",
       "      }\n",
       "    }\n",
       "  }\n",
       "  parts {\n",
       "    function_response {\n",
       "      name: \"start_music\"\n",
       "      response {\n",
       "        fields {\n",
       "          key: \"content\"\n",
       "          value {\n",
       "            string_value: \"Starting music! energetic=True loud=True, bpm=\\'120\\'\"\n",
       "          }\n",
       "        }\n",
       "      }\n",
       "    }\n",
       "  }\n",
       "  parts {\n",
       "    function_response {\n",
       "      name: \"dim_lights\"\n",
       "      response {\n",
       "        fields {\n",
       "          key: \"content\"\n",
       "          value {\n",
       "            string_value: \"Lights are now set to 0.5\"\n",
       "          }\n",
       "        }\n",
       "      }\n",
       "    }\n",
       "  }\n",
       "  role: \"function\"]}"
      ]
     },
     "execution_count": 31,
     "metadata": {},
     "output_type": "execute_result"
    }
   ],
   "source": [
    "response = await gemini.arun(prompt)\n",
    "\n",
    "# show result\n",
    "response.model_dump()"
   ]
  },
  {
   "cell_type": "markdown",
   "metadata": {},
   "source": [
    "Gemini allows you to call specific tool as well as OpenAI Chat Completion."
   ]
  },
  {
   "cell_type": "code",
   "execution_count": 32,
   "metadata": {},
   "outputs": [
    {
     "data": {
      "text/plain": [
       "{'message': {'role': 'assistant',\n",
       "  'content': [{'text': \"Okay, I'm setting the mood!  🎶 \\n\\nLet's get this party started! 🥳 \\n\\nWhat else can I do to make this place more festive?  🎉 \\n\"}],\n",
       "  'name': None},\n",
       " 'usage': {'model_name': 'gemini-1.5-pro',\n",
       "  'prompt_tokens': 68,\n",
       "  'completion_tokens': 38},\n",
       " 'prompt': [parts {\n",
       "    text: \"Turn this place into a comfortable party mood!\"\n",
       "  }\n",
       "  role: \"user\",\n",
       "  parts {\n",
       "    function_call {\n",
       "      name: \"start_music\"\n",
       "      args {\n",
       "        fields {\n",
       "          key: \"loud\"\n",
       "          value {\n",
       "            bool_value: true\n",
       "          }\n",
       "        }\n",
       "        fields {\n",
       "          key: \"energetic\"\n",
       "          value {\n",
       "            bool_value: true\n",
       "          }\n",
       "        }\n",
       "        fields {\n",
       "          key: \"bpm\"\n",
       "          value {\n",
       "            string_value: \"120\"\n",
       "          }\n",
       "        }\n",
       "      }\n",
       "    }\n",
       "  }\n",
       "  role: \"model\",\n",
       "  parts {\n",
       "    function_response {\n",
       "      name: \"start_music\"\n",
       "      response {\n",
       "        fields {\n",
       "          key: \"content\"\n",
       "          value {\n",
       "            string_value: \"Starting music! energetic=True loud=True, bpm=\\'120\\'\"\n",
       "          }\n",
       "        }\n",
       "      }\n",
       "    }\n",
       "  }\n",
       "  role: \"function\"]}"
      ]
     },
     "execution_count": 32,
     "metadata": {},
     "output_type": "execute_result"
    }
   ],
   "source": [
    "response = gemini.run(prompt, tool_choice=\"start_music\")\n",
    "\n",
    "# show result\n",
    "response.model_dump()"
   ]
  },
  {
   "cell_type": "markdown",
   "metadata": {},
   "source": [
    "Also pydantic tools is acceptable."
   ]
  },
  {
   "cell_type": "code",
   "execution_count": 33,
   "metadata": {},
   "outputs": [],
   "source": [
    "gemini = GeminiFunctionalChat(\n",
    "    api_key_env_name=\"GEMINI_API_KEY\",\n",
    "    model_name=\"gemini-1.5-pro\",\n",
    "    tools=[PowerDiscoBall, StartMusic, DimLights],\n",
    "    tool_configs=tool_configs_pydantic,\n",
    ")"
   ]
  },
  {
   "cell_type": "code",
   "execution_count": 34,
   "metadata": {},
   "outputs": [
    {
     "data": {
      "text/plain": [
       "{'message': {'role': 'assistant',\n",
       "  'content': [{'text': \"Alright, I've got the disco ball spinning, the music pumping, and the lights dimmed! Let's get this party started! 🎉 \\n\"}],\n",
       "  'name': None},\n",
       " 'usage': {'model_name': 'gemini-1.5-pro',\n",
       "  'prompt_tokens': 149,\n",
       "  'completion_tokens': 29},\n",
       " 'prompt': [parts {\n",
       "    text: \"Turn this place into a comfortable party mood!\"\n",
       "  }\n",
       "  role: \"user\",\n",
       "  parts {\n",
       "    function_call {\n",
       "      name: \"PowerDiscoBall\"\n",
       "      args {\n",
       "        fields {\n",
       "          key: \"power\"\n",
       "          value {\n",
       "            bool_value: true\n",
       "          }\n",
       "        }\n",
       "      }\n",
       "    }\n",
       "  }\n",
       "  parts {\n",
       "    function_call {\n",
       "      name: \"StartMusic\"\n",
       "      args {\n",
       "        fields {\n",
       "          key: \"loud\"\n",
       "          value {\n",
       "            bool_value: true\n",
       "          }\n",
       "        }\n",
       "        fields {\n",
       "          key: \"energetic\"\n",
       "          value {\n",
       "            bool_value: true\n",
       "          }\n",
       "        }\n",
       "        fields {\n",
       "          key: \"bpm\"\n",
       "          value {\n",
       "            string_value: \"120\"\n",
       "          }\n",
       "        }\n",
       "      }\n",
       "    }\n",
       "  }\n",
       "  parts {\n",
       "    function_call {\n",
       "      name: \"DimLights\"\n",
       "      args {\n",
       "        fields {\n",
       "          key: \"brightness\"\n",
       "          value {\n",
       "            number_value: 0.5\n",
       "          }\n",
       "        }\n",
       "      }\n",
       "    }\n",
       "  }\n",
       "  role: \"model\",\n",
       "  parts {\n",
       "    function_response {\n",
       "      name: \"PowerDiscoBall\"\n",
       "      response {\n",
       "        fields {\n",
       "          key: \"content\"\n",
       "          value {\n",
       "            string_value: \"Disco ball is spinning!\"\n",
       "          }\n",
       "        }\n",
       "      }\n",
       "    }\n",
       "  }\n",
       "  parts {\n",
       "    function_response {\n",
       "      name: \"StartMusic\"\n",
       "      response {\n",
       "        fields {\n",
       "          key: \"content\"\n",
       "          value {\n",
       "            string_value: \"Starting music! self.energetic=True self.loud=True, self.bpm=<BPM.MEDIUM: \\'120\\'>\"\n",
       "          }\n",
       "        }\n",
       "      }\n",
       "    }\n",
       "  }\n",
       "  parts {\n",
       "    function_response {\n",
       "      name: \"DimLights\"\n",
       "      response {\n",
       "        fields {\n",
       "          key: \"content\"\n",
       "          value {\n",
       "            string_value: \"Lights are now set to 0.5\"\n",
       "          }\n",
       "        }\n",
       "      }\n",
       "    }\n",
       "  }\n",
       "  role: \"function\"]}"
      ]
     },
     "execution_count": 34,
     "metadata": {},
     "output_type": "execute_result"
    }
   ],
   "source": [
    "response = gemini.run(prompt)\n",
    "response.model_dump()"
   ]
  },
  {
   "cell_type": "markdown",
   "metadata": {},
   "source": [
    "### Gemini on VertexAI"
   ]
  },
  {
   "cell_type": "code",
   "execution_count": 35,
   "metadata": {},
   "outputs": [],
   "source": [
    "gemini_vertexai = GeminiFunctionalChat(\n",
    "    model_name=\"gemini-1.5-flash\",\n",
    "    api_type=\"vertexai\",\n",
    "    project_id_env_name=\"PROJECT_ID\",\n",
    "    location_env_name=\"LOCATION\",\n",
    "    tools=[power_disco_ball, start_music, dim_lights],\n",
    "    tool_configs=tool_configs,\n",
    ")"
   ]
  },
  {
   "cell_type": "code",
   "execution_count": 36,
   "metadata": {},
   "outputs": [
    {
     "data": {
      "text/plain": [
       "{'message': {'role': 'assistant',\n",
       "  'content': [{'text': \"Okay, I'm getting this party started! \\n\\nI've turned on some upbeat music with a tempo of 120 bpm. The lights are dimmed to a cozy level, creating a nice atmosphere. And to add a touch of fun, I've turned on the disco ball! \\n\\nDo you need anything else to get the party going?  Maybe some snacks or drinks? I can help with that too! \\n\"}],\n",
       "  'name': None},\n",
       " 'usage': {'model_name': 'gemini-1.5-flash',\n",
       "  'prompt_tokens': 73,\n",
       "  'completion_tokens': 90},\n",
       " 'prompt': [role: \"user\"\n",
       "  parts {\n",
       "    text: \"Turn this place into a comfortable party mood!\"\n",
       "  },\n",
       "  role: \"model\"\n",
       "  parts {\n",
       "    function_call {\n",
       "      name: \"start_music\"\n",
       "      args {\n",
       "        fields {\n",
       "          key: \"loud\"\n",
       "          value {\n",
       "            bool_value: false\n",
       "          }\n",
       "        }\n",
       "        fields {\n",
       "          key: \"energetic\"\n",
       "          value {\n",
       "            bool_value: true\n",
       "          }\n",
       "        }\n",
       "        fields {\n",
       "          key: \"bpm\"\n",
       "          value {\n",
       "            string_value: \"120\"\n",
       "          }\n",
       "        }\n",
       "      }\n",
       "    }\n",
       "  }\n",
       "  parts {\n",
       "    function_call {\n",
       "      name: \"dim_lights\"\n",
       "      args {\n",
       "        fields {\n",
       "          key: \"brightness\"\n",
       "          value {\n",
       "            number_value: 0.5\n",
       "          }\n",
       "        }\n",
       "      }\n",
       "    }\n",
       "  }\n",
       "  parts {\n",
       "    function_call {\n",
       "      name: \"power_disco_ball\"\n",
       "      args {\n",
       "        fields {\n",
       "          key: \"power\"\n",
       "          value {\n",
       "            bool_value: true\n",
       "          }\n",
       "        }\n",
       "      }\n",
       "    }\n",
       "  },\n",
       "  role: \"user\"\n",
       "  parts {\n",
       "    function_response {\n",
       "      name: \"start_music\"\n",
       "      response {\n",
       "        fields {\n",
       "          key: \"content\"\n",
       "          value {\n",
       "            string_value: \"Starting music! energetic=True loud=False, bpm=\\'120\\'\"\n",
       "          }\n",
       "        }\n",
       "      }\n",
       "    }\n",
       "  }\n",
       "  parts {\n",
       "    function_response {\n",
       "      name: \"dim_lights\"\n",
       "      response {\n",
       "        fields {\n",
       "          key: \"content\"\n",
       "          value {\n",
       "            string_value: \"Lights are now set to 0.5\"\n",
       "          }\n",
       "        }\n",
       "      }\n",
       "    }\n",
       "  }\n",
       "  parts {\n",
       "    function_response {\n",
       "      name: \"power_disco_ball\"\n",
       "      response {\n",
       "        fields {\n",
       "          key: \"content\"\n",
       "          value {\n",
       "            string_value: \"Disco ball is spinning!\"\n",
       "          }\n",
       "        }\n",
       "      }\n",
       "    }\n",
       "  }]}"
      ]
     },
     "execution_count": 36,
     "metadata": {},
     "output_type": "execute_result"
    }
   ],
   "source": [
    "response = gemini_vertexai.run(prompt=prompt)\n",
    "\n",
    "# show result\n",
    "response.model_dump()"
   ]
  },
  {
   "cell_type": "markdown",
   "metadata": {},
   "source": [
    "multiple generation"
   ]
  },
  {
   "cell_type": "code",
   "execution_count": 37,
   "metadata": {},
   "outputs": [
    {
     "data": {
      "text/plain": [
       "{'role': 'assistant',\n",
       " 'content': [{'text': \"Okay, I'm getting the party started! I've turned on some upbeat music with a steady beat, dimmed the lights a bit for a cozy ambiance, and even got the disco ball spinning! \\U0001faa9🎶  \\n\\nIs there anything else you'd like me to do to make this party even more awesome?  Let me know! 🎉 \\n\"},\n",
       "  {'text': \"Okay, I'm getting the party started! I've turned on some upbeat music with a steady beat, dimmed the lights a bit for a cozy ambiance, and even got the disco ball spinning! \\U0001faa9🎶  \\n\\nIs there anything else you'd like me to do to make this party even more awesome?  Let me know! 🎉 \\n\"}],\n",
       " 'name': None}"
      ]
     },
     "execution_count": 37,
     "metadata": {},
     "output_type": "execute_result"
    }
   ],
   "source": [
    "response = gemini_vertexai.run(prompt=prompt, n_results=2)\n",
    "response.message.model_dump()"
   ]
  },
  {
   "cell_type": "markdown",
   "metadata": {},
   "source": [
    "Pydantic tool use"
   ]
  },
  {
   "cell_type": "code",
   "execution_count": 38,
   "metadata": {},
   "outputs": [],
   "source": [
    "gemini_vertexai = GeminiFunctionalChat(\n",
    "    model_name=\"gemini-1.5-flash\",\n",
    "    api_type=\"vertexai\",\n",
    "    project_id_env_name=\"PROJECT_ID\",\n",
    "    location_env_name=\"LOCATION\",\n",
    "    tools=[PowerDiscoBall, StartMusic, DimLights],\n",
    "    tool_configs=tool_configs_pydantic,\n",
    ")"
   ]
  },
  {
   "cell_type": "code",
   "execution_count": 39,
   "metadata": {},
   "outputs": [
    {
     "data": {
      "text/plain": [
       "{'message': {'role': 'assistant',\n",
       "  'content': [{'text': \"Okay, let's get this party started! \\n\\nI've turned on the disco ball, so the room is now sparkling with colorful light. I've also started some upbeat music with a tempo of 120 bpm, keeping it energetic but not too loud.  The lights have been dimmed to a comfortable level, creating a warm and inviting atmosphere. \\n\\nNow, what else can I do to make this place feel like a party? Tell me:\\n\\n* **What kind of party is it?**  Is it a casual get-together, a birthday bash, a themed party, or something else? \\n* **What kind of music do you want?**  Do you have any specific requests?\\n* **What kind of decorations would you like?**  Balloons, streamers, banners, or something else? \\n* **Any other ideas you have?**\\n\\nLet's make this the best party ever! \\n\"}],\n",
       "  'name': None},\n",
       " 'usage': {'model_name': 'gemini-1.5-flash',\n",
       "  'prompt_tokens': 77,\n",
       "  'completion_tokens': 198},\n",
       " 'prompt': [role: \"user\"\n",
       "  parts {\n",
       "    text: \"Turn this place into a comfortable party mood!\"\n",
       "  },\n",
       "  role: \"model\"\n",
       "  parts {\n",
       "    function_call {\n",
       "      name: \"PowerDiscoBall\"\n",
       "      args {\n",
       "        fields {\n",
       "          key: \"power\"\n",
       "          value {\n",
       "            bool_value: true\n",
       "          }\n",
       "        }\n",
       "      }\n",
       "    }\n",
       "  }\n",
       "  parts {\n",
       "    function_call {\n",
       "      name: \"StartMusic\"\n",
       "      args {\n",
       "        fields {\n",
       "          key: \"loud\"\n",
       "          value {\n",
       "            bool_value: false\n",
       "          }\n",
       "        }\n",
       "        fields {\n",
       "          key: \"energetic\"\n",
       "          value {\n",
       "            bool_value: true\n",
       "          }\n",
       "        }\n",
       "        fields {\n",
       "          key: \"bpm\"\n",
       "          value {\n",
       "            string_value: \"120\"\n",
       "          }\n",
       "        }\n",
       "      }\n",
       "    }\n",
       "  }\n",
       "  parts {\n",
       "    function_call {\n",
       "      name: \"DimLights\"\n",
       "      args {\n",
       "        fields {\n",
       "          key: \"brightness\"\n",
       "          value {\n",
       "            number_value: 0.5\n",
       "          }\n",
       "        }\n",
       "      }\n",
       "    }\n",
       "  },\n",
       "  role: \"user\"\n",
       "  parts {\n",
       "    function_response {\n",
       "      name: \"PowerDiscoBall\"\n",
       "      response {\n",
       "        fields {\n",
       "          key: \"content\"\n",
       "          value {\n",
       "            string_value: \"Disco ball is spinning!\"\n",
       "          }\n",
       "        }\n",
       "      }\n",
       "    }\n",
       "  }\n",
       "  parts {\n",
       "    function_response {\n",
       "      name: \"StartMusic\"\n",
       "      response {\n",
       "        fields {\n",
       "          key: \"content\"\n",
       "          value {\n",
       "            string_value: \"Starting music! self.energetic=True self.loud=False, self.bpm=<BPM.MEDIUM: \\'120\\'>\"\n",
       "          }\n",
       "        }\n",
       "      }\n",
       "    }\n",
       "  }\n",
       "  parts {\n",
       "    function_response {\n",
       "      name: \"DimLights\"\n",
       "      response {\n",
       "        fields {\n",
       "          key: \"content\"\n",
       "          value {\n",
       "            string_value: \"Lights are now set to 0.5\"\n",
       "          }\n",
       "        }\n",
       "      }\n",
       "    }\n",
       "  }]}"
      ]
     },
     "execution_count": 39,
     "metadata": {},
     "output_type": "execute_result"
    }
   ],
   "source": [
    "response = gemini_vertexai.run(prompt=prompt)\n",
    "response.model_dump()"
   ]
  },
  {
   "cell_type": "markdown",
   "metadata": {},
   "source": [
    "### Anthropic Claude"
   ]
  },
  {
   "cell_type": "markdown",
   "metadata": {},
   "source": [
    "tool_configs can be shared with Claude."
   ]
  },
  {
   "cell_type": "code",
   "execution_count": 40,
   "metadata": {},
   "outputs": [],
   "source": [
    "claude = ClaudeFunctionalChat(\n",
    "    model_name=\"claude-3-5-sonnet-20240620\",\n",
    "    api_key_env_name=\"ANTHROPIC_API_KEY\",\n",
    "    tools=[power_disco_ball, start_music, dim_lights],\n",
    "    tool_configs=tool_configs,\n",
    ")"
   ]
  },
  {
   "cell_type": "code",
   "execution_count": 41,
   "metadata": {},
   "outputs": [
    {
     "data": {
      "text/plain": [
       "{'message': {'role': 'assistant',\n",
       "  'content': [{'text': \"Great! I've set up a comfortable party mood for you. Here's what I've done:\\n\\n1. Turned on the disco ball: This will add a fun, party atmosphere with its spinning lights.\\n\\n2. Started some music: I've chosen energetic music to keep the party spirit up, but not too loud so it's still comfortable for conversation. The tempo is set to a moderate 120 beats per minute, which is good for a relaxed yet upbeat mood.\\n\\n3. Dimmed the lights: I've set the brightness to 50% (0.5), which should create a cozy, intimate atmosphere without being too dark.\\n\\nThese settings should create a comfortable party mood that's lively enough for fun but still allows for easy conversation and relaxation. The combination of the spinning disco ball, upbeat yet not overpowering music, and dimmed lights should set just the right tone for your party.\\n\\nIs there anything else you'd like to adjust to make the mood even more to your liking?\"}],\n",
       "  'name': None},\n",
       " 'usage': {'model_name': 'claude-3-5-sonnet-20240620',\n",
       "  'prompt_tokens': 919,\n",
       "  'completion_tokens': 221},\n",
       " 'prompt': [{'role': 'user',\n",
       "   'content': [{'text': 'Turn this place into a comfortable party mood!',\n",
       "     'type': 'text'}]},\n",
       "  {'role': 'assistant',\n",
       "   'content': [{'text': \"Certainly! I'd be happy to help create a comfortable party mood for you. To achieve this, we'll need to adjust a few things using the available tools. Let's set up the perfect ambiance step by step.\",\n",
       "     'type': 'text'},\n",
       "    {'id': 'toolu_01MU2GvDz7rbN4A4Xc6fTZPT',\n",
       "     'type': 'tool_use',\n",
       "     'input': {'power': True},\n",
       "     'name': 'power_disco_ball'},\n",
       "    {'id': 'toolu_01Go5uAYvG2vm1b46W1yGCuG',\n",
       "     'type': 'tool_use',\n",
       "     'input': {'energetic': True, 'loud': False, 'bpm': '120'},\n",
       "     'name': 'start_music'},\n",
       "    {'id': 'toolu_01AMcr4aUMTHU23C7KLLZUFg',\n",
       "     'type': 'tool_use',\n",
       "     'input': {'brightness': 0.5},\n",
       "     'name': 'dim_lights'}]},\n",
       "  {'role': 'user',\n",
       "   'content': [{'tool_use_id': 'toolu_01MU2GvDz7rbN4A4Xc6fTZPT',\n",
       "     'type': 'tool_result',\n",
       "     'content': 'Disco ball is spinning!'},\n",
       "    {'tool_use_id': 'toolu_01Go5uAYvG2vm1b46W1yGCuG',\n",
       "     'type': 'tool_result',\n",
       "     'content': \"Starting music! energetic=True loud=False, bpm='120'\"},\n",
       "    {'tool_use_id': 'toolu_01AMcr4aUMTHU23C7KLLZUFg',\n",
       "     'type': 'tool_result',\n",
       "     'content': 'Lights are now set to 0.5'}]}]}"
      ]
     },
     "execution_count": 41,
     "metadata": {},
     "output_type": "execute_result"
    }
   ],
   "source": [
    "response = claude.run(prompt=prompt)\n",
    "\n",
    "response.model_dump()"
   ]
  },
  {
   "cell_type": "markdown",
   "metadata": {},
   "source": [
    "Asynchronous generation"
   ]
  },
  {
   "cell_type": "code",
   "execution_count": 42,
   "metadata": {},
   "outputs": [
    {
     "data": {
      "text/plain": [
       "{'message': {'role': 'assistant',\n",
       "  'content': [{'text': \"Great! I've set up a comfortable party mood for you. Here's what I've done:\\n\\n1. Dimmed the lights to 40% brightness (0.4), which should create a cozy and inviting atmosphere without being too dark.\\n2. Started some music that is energetic but not too loud, with a moderate tempo of 120 beats per minute. This should provide a good background for conversation and light dancing if desired.\\n3. Turned on the disco ball to add a fun, festive element to the room without being overwhelming.\\n\\nThese settings should create a comfortable party mood that's perfect for socializing and enjoying the atmosphere. The dimmed lights and spinning disco ball will create an interesting visual effect, while the music adds energy without being too intense.\\n\\nIs there anything else you'd like to adjust to make the party mood even more comfortable or suited to your preferences?\"}],\n",
       "  'name': None},\n",
       " 'usage': {'model_name': 'claude-3-5-sonnet-20240620',\n",
       "  'prompt_tokens': 970,\n",
       "  'completion_tokens': 191},\n",
       " 'prompt': [{'role': 'user',\n",
       "   'content': [{'text': 'Turn this place into a comfortable party mood!',\n",
       "     'type': 'text'}]},\n",
       "  {'role': 'assistant',\n",
       "   'content': [{'text': \"Certainly! I'd be happy to help create a comfortable party mood. To achieve this, we'll need to adjust the lighting, start some music, and add a bit of fun ambiance. Let's use the available tools to set up the perfect party atmosphere.\\n\\nFirst, let's dim the lights to create a cozy atmosphere, start some moderately energetic music, and turn on the disco ball for a festive touch. Here's how we'll do it:\",\n",
       "     'type': 'text'},\n",
       "    {'id': 'toolu_01HhTTrzvPXiRSMoG1vxa8UQ',\n",
       "     'type': 'tool_use',\n",
       "     'input': {'brightness': 0.4},\n",
       "     'name': 'dim_lights'},\n",
       "    {'id': 'toolu_01YT9vnjaTweSLALVx33EQbq',\n",
       "     'type': 'tool_use',\n",
       "     'input': {'energetic': True, 'loud': False, 'bpm': '120'},\n",
       "     'name': 'start_music'},\n",
       "    {'id': 'toolu_01RyujsfJ8ySUpM8LCEtX2Up',\n",
       "     'type': 'tool_use',\n",
       "     'input': {'power': True},\n",
       "     'name': 'power_disco_ball'}]},\n",
       "  {'role': 'user',\n",
       "   'content': [{'tool_use_id': 'toolu_01HhTTrzvPXiRSMoG1vxa8UQ',\n",
       "     'type': 'tool_result',\n",
       "     'content': 'Lights are now set to 0.4'},\n",
       "    {'tool_use_id': 'toolu_01YT9vnjaTweSLALVx33EQbq',\n",
       "     'type': 'tool_result',\n",
       "     'content': \"Starting music! energetic=True loud=False, bpm='120'\"},\n",
       "    {'tool_use_id': 'toolu_01RyujsfJ8ySUpM8LCEtX2Up',\n",
       "     'type': 'tool_result',\n",
       "     'content': 'Disco ball is spinning!'}]}]}"
      ]
     },
     "execution_count": 42,
     "metadata": {},
     "output_type": "execute_result"
    }
   ],
   "source": [
    "response = await claude.arun(prompt=prompt)\n",
    "\n",
    "response.model_dump()"
   ]
  },
  {
   "cell_type": "markdown",
   "metadata": {},
   "source": [
    "Pydantic tool use"
   ]
  },
  {
   "cell_type": "code",
   "execution_count": 43,
   "metadata": {},
   "outputs": [],
   "source": [
    "claude = ClaudeFunctionalChat(\n",
    "    model_name=\"claude-3-5-sonnet-20240620\",\n",
    "    api_key_env_name=\"ANTHROPIC_API_KEY\",\n",
    "    tools=[PowerDiscoBall, StartMusic, DimLights],\n",
    "    tool_configs=tool_configs_pydantic,\n",
    ")"
   ]
  },
  {
   "cell_type": "code",
   "execution_count": 44,
   "metadata": {},
   "outputs": [
    {
     "data": {
      "text/plain": [
       "{'message': {'role': 'assistant',\n",
       "  'content': [{'text': \"Great! I've set up the perfect comfortable party mood for you. Here's what I've done:\\n\\n1. Dimmed the lights to 40% brightness (0.4). This creates a cozy, relaxed atmosphere without making it too dark.\\n2. Started playing music that is energetic but not too loud, with a moderate tempo of 120 beats per minute. This should provide a nice background for conversation and light dancing if desired.\\n3. Powered on the disco ball, which adds a fun, festive element to the room without being overwhelming.\\n\\nThese settings should create a comfortable party atmosphere that's perfect for socializing and enjoying the evening. The combination of soft lighting, upbeat but not overpowering music, and the subtle sparkle from the disco ball should set just the right mood.\\n\\nIs there anything else you'd like me to adjust to make the party mood even more comfortable?\"}],\n",
       "  'name': None},\n",
       " 'usage': {'model_name': 'claude-3-5-sonnet-20240620',\n",
       "  'prompt_tokens': 992,\n",
       "  'completion_tokens': 196},\n",
       " 'prompt': [{'role': 'user',\n",
       "   'content': [{'text': 'Turn this place into a comfortable party mood!',\n",
       "     'type': 'text'}]},\n",
       "  {'role': 'assistant',\n",
       "   'content': [{'text': \"Certainly! I'd be happy to help create a comfortable party mood using the tools available. To set the right atmosphere, we'll need to adjust the lighting, start some music, and add a fun element with the disco ball. Let's break this down into steps:\\n\\n1. Dim the lights to create a cozy ambiance\\n2. Start some music that's energetic but not too loud\\n3. Power up the disco ball for a festive touch\\n\\nLet's use our available tools to achieve this:\",\n",
       "     'type': 'text'},\n",
       "    {'id': 'toolu_01MzyJbwV8CBuS2sYfaXqXsJ',\n",
       "     'type': 'tool_use',\n",
       "     'input': {'brightness': 0.4},\n",
       "     'name': 'DimLights'},\n",
       "    {'id': 'toolu_013sAkCNjFHQW1cgWJGUU2oa',\n",
       "     'type': 'tool_use',\n",
       "     'input': {'energetic': True, 'loud': False, 'bpm': '120'},\n",
       "     'name': 'StartMusic'},\n",
       "    {'id': 'toolu_017ZdZdMd3zR7UmaS9gLJ6Ty',\n",
       "     'type': 'tool_use',\n",
       "     'input': {'power': True},\n",
       "     'name': 'PowerDiscoBall'}]},\n",
       "  {'role': 'user',\n",
       "   'content': [{'tool_use_id': 'toolu_01MzyJbwV8CBuS2sYfaXqXsJ',\n",
       "     'type': 'tool_result',\n",
       "     'content': 'Lights are now set to 0.4'},\n",
       "    {'tool_use_id': 'toolu_013sAkCNjFHQW1cgWJGUU2oa',\n",
       "     'type': 'tool_result',\n",
       "     'content': \"Starting music! self.energetic=True self.loud=False, self.bpm=<BPM.MEDIUM: '120'>\"},\n",
       "    {'tool_use_id': 'toolu_017ZdZdMd3zR7UmaS9gLJ6Ty',\n",
       "     'type': 'tool_result',\n",
       "     'content': 'Disco ball is spinning!'}]}]}"
      ]
     },
     "execution_count": 44,
     "metadata": {},
     "output_type": "execute_result"
    }
   ],
   "source": [
    "response = claude.run(prompt=prompt)\n",
    "response.model_dump()"
   ]
  },
  {
   "cell_type": "markdown",
   "metadata": {},
   "source": [
    "### Claude on Amazon Bedrock"
   ]
  },
  {
   "cell_type": "code",
   "execution_count": 45,
   "metadata": {},
   "outputs": [],
   "source": [
    "claude_bedrock = ClaudeFunctionalChat(\n",
    "    model_name=\"anthropic.claude-3-sonnet-20240229-v1:0\",\n",
    "    api_type=\"bedrock\",\n",
    "    aws_access_key_env_name=\"AWS_ACCESS_KEY\",\n",
    "    aws_secret_key_env_name=\"AWS_SECRET_KEY\",\n",
    "    aws_region_env_name=\"AWS_REGION\",\n",
    "    tools=[power_disco_ball, start_music, dim_lights],\n",
    "    tool_configs=tool_configs,\n",
    ")"
   ]
  },
  {
   "cell_type": "code",
   "execution_count": 46,
   "metadata": {},
   "outputs": [
    {
     "data": {
      "text/plain": [
       "{'message': {'role': 'assistant',\n",
       "  'content': [{'text': \"Great! I've set up a comfortable party mood for you. Here's what I've done:\\n\\n1. Dimmed the lights: I've set the brightness to 0.4, which is low enough to create a cozy atmosphere but still allows people to see comfortably.\\n\\n2. Started the music: I've chosen music that is energetic to keep the party mood, but not too loud so people can still converse comfortably. The beats per minute (BPM) is set to 120, which is a moderate tempo that's good for a relaxed party vibe.\\n\\n3. Activated the disco ball: To add a touch of fun and create some interesting light patterns, I've turned on the disco ball.\\n\\nThese settings should create a comfortable party atmosphere that's lively but not overwhelming. The dimmed lights and spinning disco ball will create a fun, relaxed ambiance, while the energetic but not-too-loud music at a moderate tempo will provide a nice backdrop for socializing.\\n\\nIs there anything else you'd like me to adjust to perfect the party mood?\"}],\n",
       "  'name': None},\n",
       " 'usage': {'model_name': 'claude-3-5-sonnet-20240620',\n",
       "  'prompt_tokens': 937,\n",
       "  'completion_tokens': 236},\n",
       " 'prompt': [{'role': 'user',\n",
       "   'content': [{'text': 'Turn this place into a comfortable party mood!',\n",
       "     'type': 'text'}]},\n",
       "  {'role': 'assistant',\n",
       "   'content': [{'text': \"Certainly! I'd be happy to help create a comfortable party mood. To achieve this, we'll need to adjust the lighting, start some appropriate music, and add a bit of flair. Let's use the available tools to set the right atmosphere.\",\n",
       "     'type': 'text'},\n",
       "    {'id': 'toolu_01EKxVcK7T4gKp2REeFna2vR',\n",
       "     'type': 'tool_use',\n",
       "     'input': {'brightness': 0.4},\n",
       "     'name': 'DimLights'},\n",
       "    {'id': 'toolu_01WmoXPdrsqAYnDmeiXrArqi',\n",
       "     'type': 'tool_use',\n",
       "     'input': {'energetic': True, 'loud': False, 'bpm': '120'},\n",
       "     'name': 'StartMusic'},\n",
       "    {'id': 'toolu_019ScWiZhadnFaDMKDhZv3iK',\n",
       "     'type': 'tool_use',\n",
       "     'input': {'power': True},\n",
       "     'name': 'PowerDiscoBall'}]},\n",
       "  {'role': 'user',\n",
       "   'content': [{'tool_use_id': 'toolu_01EKxVcK7T4gKp2REeFna2vR',\n",
       "     'type': 'tool_result',\n",
       "     'content': 'Lights are now set to 0.4'},\n",
       "    {'tool_use_id': 'toolu_01WmoXPdrsqAYnDmeiXrArqi',\n",
       "     'type': 'tool_result',\n",
       "     'content': \"Starting music! self.energetic=True self.loud=False, self.bpm=<BPM.MEDIUM: '120'>\"},\n",
       "    {'tool_use_id': 'toolu_019ScWiZhadnFaDMKDhZv3iK',\n",
       "     'type': 'tool_result',\n",
       "     'content': 'Disco ball is spinning!'}]}]}"
      ]
     },
     "execution_count": 46,
     "metadata": {},
     "output_type": "execute_result"
    }
   ],
   "source": [
    "response = claude.run(prompt=prompt)\n",
    "\n",
    "response.model_dump()"
   ]
  },
  {
   "cell_type": "code",
   "execution_count": 47,
   "metadata": {},
   "outputs": [
    {
     "data": {
      "text/plain": [
       "{'message': {'role': 'assistant',\n",
       "  'content': [{'text': \"Great! I've set up a comfortable party mood for you. Here's what I've done:\\n\\n1. Dimmed the lights: I've set the brightness to 0.4, which is low enough to create a cozy atmosphere but still allows people to see comfortably.\\n\\n2. Started the music: I've chosen music that is energetic to keep the party mood, but not too loud so people can still converse comfortably. The beats per minute (BPM) is set to 120, which is a moderate tempo that's good for a relaxed party vibe.\\n\\n3. Activated the disco ball: To add a touch of fun and create some interesting light patterns, I've turned on the disco ball.\\n\\nThese settings should create a comfortable party atmosphere that's lively but not overwhelming. The dimmed lights and spinning disco ball will create a fun, relaxed ambiance, while the energetic but not-too-loud music at a moderate tempo will provide a nice backdrop for socializing.\\n\\nIs there anything else you'd like me to adjust to perfect the party mood?\"}],\n",
       "  'name': None},\n",
       " 'usage': {'model_name': 'claude-3-5-sonnet-20240620',\n",
       "  'prompt_tokens': 937,\n",
       "  'completion_tokens': 236},\n",
       " 'prompt': [{'role': 'user',\n",
       "   'content': [{'text': 'Turn this place into a comfortable party mood!',\n",
       "     'type': 'text'}]},\n",
       "  {'role': 'assistant',\n",
       "   'content': [{'text': \"Certainly! I'd be happy to help create a comfortable party mood. To achieve this, we'll need to adjust the lighting, start some appropriate music, and add a bit of flair. Let's use the available tools to set the right atmosphere.\",\n",
       "     'type': 'text'},\n",
       "    {'id': 'toolu_01EKxVcK7T4gKp2REeFna2vR',\n",
       "     'type': 'tool_use',\n",
       "     'input': {'brightness': 0.4},\n",
       "     'name': 'DimLights'},\n",
       "    {'id': 'toolu_01WmoXPdrsqAYnDmeiXrArqi',\n",
       "     'type': 'tool_use',\n",
       "     'input': {'energetic': True, 'loud': False, 'bpm': '120'},\n",
       "     'name': 'StartMusic'},\n",
       "    {'id': 'toolu_019ScWiZhadnFaDMKDhZv3iK',\n",
       "     'type': 'tool_use',\n",
       "     'input': {'power': True},\n",
       "     'name': 'PowerDiscoBall'}]},\n",
       "  {'role': 'user',\n",
       "   'content': [{'tool_use_id': 'toolu_01EKxVcK7T4gKp2REeFna2vR',\n",
       "     'type': 'tool_result',\n",
       "     'content': 'Lights are now set to 0.4'},\n",
       "    {'tool_use_id': 'toolu_01WmoXPdrsqAYnDmeiXrArqi',\n",
       "     'type': 'tool_result',\n",
       "     'content': \"Starting music! self.energetic=True self.loud=False, self.bpm=<BPM.MEDIUM: '120'>\"},\n",
       "    {'tool_use_id': 'toolu_019ScWiZhadnFaDMKDhZv3iK',\n",
       "     'type': 'tool_result',\n",
       "     'content': 'Disco ball is spinning!'}]}]}"
      ]
     },
     "execution_count": 47,
     "metadata": {},
     "output_type": "execute_result"
    }
   ],
   "source": [
    "repsonse = await claude.arun(prompt=prompt)\n",
    "response.model_dump()"
   ]
  },
  {
   "cell_type": "markdown",
   "metadata": {},
   "source": [
    "Pydantic tool use"
   ]
  },
  {
   "cell_type": "code",
   "execution_count": 48,
   "metadata": {},
   "outputs": [],
   "source": [
    "claude_bedrock = ClaudeFunctionalChat(\n",
    "    model_name=\"anthropic.claude-3-sonnet-20240229-v1:0\",\n",
    "    api_type=\"bedrock\",\n",
    "    aws_access_key_env_name=\"AWS_ACCESS_KEY\",\n",
    "    aws_secret_key_env_name=\"AWS_SECRET_KEY\",\n",
    "    aws_region_env_name=\"AWS_REGION\",\n",
    "    tools=[PowerDiscoBall, StartMusic, DimLights],\n",
    "    tool_configs=tool_configs_pydantic,\n",
    ")"
   ]
  },
  {
   "cell_type": "code",
   "execution_count": 49,
   "metadata": {},
   "outputs": [
    {
     "data": {
      "text/plain": [
       "{'message': {'role': 'assistant',\n",
       "  'content': [{'text': \"Great! I've made the following adjustments to create a comfortable party mood:\\n\\n1. Dimmed the lights to 40% brightness (0.4), which should create a warm and cozy atmosphere without being too dark.\\n2. Started playing music with a moderate tempo (120 BPM). The music is energetic to keep the party vibe going, but not too loud so people can still comfortably chat.\\n3. Turned on the disco ball to add a fun, festive element to the space.\\n\\nThese settings should create a comfortable party atmosphere that's lively enough for fun but still allows for conversation and relaxation. The dimmed lights and spinning disco ball will create an interesting visual effect, while the music adds energy without overpowering the room.\\n\\nIs there anything else you'd like me to adjust to perfect the party mood? For example, we could change the music tempo, adjust the lighting further, or turn off the disco ball if it's too much. Just let me know!\"}],\n",
       "  'name': None},\n",
       " 'usage': {'model_name': 'claude-3-5-sonnet-20240620',\n",
       "  'prompt_tokens': 981,\n",
       "  'completion_tokens': 219},\n",
       " 'prompt': [{'role': 'user',\n",
       "   'content': [{'text': 'Turn this place into a comfortable party mood!',\n",
       "     'type': 'text'}]},\n",
       "  {'role': 'assistant',\n",
       "   'content': [{'text': \"Certainly! I'd be happy to help create a comfortable party mood. To achieve this, we'll need to adjust the lighting, start some music, and add a bit of fun ambiance. Let's use the available tools to set the right atmosphere.\\n\\nFirst, let's dim the lights to create a cozy atmosphere, start some moderate-tempo music, and turn on the disco ball for a festive touch. I'll use the available functions to do this:\",\n",
       "     'type': 'text'},\n",
       "    {'id': 'toolu_01J2yzb7qQSoQis2t5psUxQb',\n",
       "     'type': 'tool_use',\n",
       "     'input': {'brightness': 0.4},\n",
       "     'name': 'DimLights'},\n",
       "    {'id': 'toolu_01L1zLA7CVbbjzoUHhD3JsFT',\n",
       "     'type': 'tool_use',\n",
       "     'input': {'energetic': True, 'loud': False, 'bpm': '120'},\n",
       "     'name': 'StartMusic'},\n",
       "    {'id': 'toolu_016UJkQPx367SgXNcwM5iKLK',\n",
       "     'type': 'tool_use',\n",
       "     'input': {'power': True},\n",
       "     'name': 'PowerDiscoBall'}]},\n",
       "  {'role': 'user',\n",
       "   'content': [{'tool_use_id': 'toolu_01J2yzb7qQSoQis2t5psUxQb',\n",
       "     'type': 'tool_result',\n",
       "     'content': 'Lights are now set to 0.4'},\n",
       "    {'tool_use_id': 'toolu_01L1zLA7CVbbjzoUHhD3JsFT',\n",
       "     'type': 'tool_result',\n",
       "     'content': \"Starting music! self.energetic=True self.loud=False, self.bpm=<BPM.MEDIUM: '120'>\"},\n",
       "    {'tool_use_id': 'toolu_016UJkQPx367SgXNcwM5iKLK',\n",
       "     'type': 'tool_result',\n",
       "     'content': 'Disco ball is spinning!'}]}]}"
      ]
     },
     "execution_count": 49,
     "metadata": {},
     "output_type": "execute_result"
    }
   ],
   "source": [
    "response = claude.run(prompt=prompt)\n",
    "response.model_dump()"
   ]
  },
  {
   "cell_type": "markdown",
   "metadata": {},
   "source": [
    "# Universal tool config system"
   ]
  },
  {
   "cell_type": "markdown",
   "metadata": {},
   "source": [
    "Tool config the user defines is common for various llm. It is converted to client tools in clinet's FunctionCallingModule before API call. Let me show you the process of conversion."
   ]
  },
  {
   "cell_type": "code",
   "execution_count": 50,
   "metadata": {},
   "outputs": [
    {
     "data": {
      "text/plain": [
       "[OpenAIToolConfig(name='power_disco_ball', description='Powers the spinning disco ball.', parameters=OpenAIToolParameter(type='object', properties=[OpenAIToolProperty(name='power', type='boolean', description='Boolean to spin disco ball.', enum=None, items=None)], required=['power']), strict=None, type='function'),\n",
       " OpenAIToolConfig(name='start_music', description='Play some music matching the specified parameters.', parameters=OpenAIToolParameter(type='object', properties=[OpenAIToolProperty(name='energetic', type='boolean', description='Whether the music is energetic or not.', enum=None, items=None), OpenAIToolProperty(name='loud', type='boolean', description='Whether the music is loud or not.', enum=None, items=None), OpenAIToolProperty(name='bpm', type='string', description='The beats per minute of the music.', enum=['60', '120', '180'], items=None)], required=['energetic', 'loud', 'bpm']), strict=None, type='function'),\n",
       " OpenAIToolConfig(name='dim_lights', description='Dim the lights.', parameters=OpenAIToolParameter(type='object', properties=[OpenAIToolProperty(name='brightness', type='number', description='The brightness of the lights, 0.0 is off, 1.0 is full.', enum=None, items=None)], required=['brightness']), strict=None, type='function')]"
      ]
     },
     "execution_count": 50,
     "metadata": {},
     "output_type": "execute_result"
    }
   ],
   "source": [
    "from langrila.openai import OpenAIToolConfig\n",
    "\n",
    "converted_configs = OpenAIToolConfig.from_universal_configs(tool_configs)\n",
    "converted_configs"
   ]
  },
  {
   "cell_type": "markdown",
   "metadata": {},
   "source": [
    "Then these client tool config objects is transformed to client tools by format() method."
   ]
  },
  {
   "cell_type": "code",
   "execution_count": 51,
   "metadata": {},
   "outputs": [
    {
     "data": {
      "text/plain": [
       "{'type': 'function',\n",
       " 'function': {'name': 'power_disco_ball',\n",
       "  'description': 'Powers the spinning disco ball.',\n",
       "  'parameters': {'type': 'object',\n",
       "   'required': ['power'],\n",
       "   'properties': {'power': {'type': 'boolean',\n",
       "     'description': 'Boolean to spin disco ball.'}}}}}"
      ]
     },
     "execution_count": 51,
     "metadata": {},
     "output_type": "execute_result"
    }
   ],
   "source": [
    "converted_configs[0].format()"
   ]
  },
  {
   "cell_type": "markdown",
   "metadata": {},
   "source": [
    "Other client like Gemini and Claude is the same interface, so you could reuse tool_configs you initially defines."
   ]
  },
  {
   "cell_type": "code",
   "execution_count": 52,
   "metadata": {},
   "outputs": [],
   "source": [
    "from langrila.gemini.genai import GeminiToolConfig"
   ]
  },
  {
   "cell_type": "code",
   "execution_count": 53,
   "metadata": {},
   "outputs": [
    {
     "data": {
      "text/plain": [
       "[GeminiToolConfig(name='power_disco_ball', description='Powers the spinning disco ball.', parameters=GeminiToolParameter(type='object', properties=[GeminiToolProperty(name='power', type='boolean', description='Boolean to spin disco ball.', enum=None, items=None)], required=['power']), strict=None),\n",
       " GeminiToolConfig(name='start_music', description='Play some music matching the specified parameters.', parameters=GeminiToolParameter(type='object', properties=[GeminiToolProperty(name='energetic', type='boolean', description='Whether the music is energetic or not.', enum=None, items=None), GeminiToolProperty(name='loud', type='boolean', description='Whether the music is loud or not.', enum=None, items=None), GeminiToolProperty(name='bpm', type='string', description='The beats per minute of the music.', enum=['60', '120', '180'], items=None)], required=['energetic', 'loud', 'bpm']), strict=None),\n",
       " GeminiToolConfig(name='dim_lights', description='Dim the lights.', parameters=GeminiToolParameter(type='object', properties=[GeminiToolProperty(name='brightness', type='number', description='The brightness of the lights, 0.0 is off, 1.0 is full.', enum=None, items=None)], required=['brightness']), strict=None)]"
      ]
     },
     "execution_count": 53,
     "metadata": {},
     "output_type": "execute_result"
    }
   ],
   "source": [
    "converted_configs = GeminiToolConfig.from_universal_configs(tool_configs)\n",
    "converted_configs"
   ]
  },
  {
   "cell_type": "code",
   "execution_count": 54,
   "metadata": {},
   "outputs": [
    {
     "data": {
      "text/plain": [
       "name: \"power_disco_ball\"\n",
       "description: \"Powers the spinning disco ball.\"\n",
       "parameters {\n",
       "  type_: OBJECT\n",
       "  properties {\n",
       "    key: \"power\"\n",
       "    value {\n",
       "      type_: BOOLEAN\n",
       "      description: \"Boolean to spin disco ball.\"\n",
       "    }\n",
       "  }\n",
       "  required: \"power\"\n",
       "}"
      ]
     },
     "execution_count": 54,
     "metadata": {},
     "output_type": "execute_result"
    }
   ],
   "source": [
    "converted_configs[0].format()"
   ]
  },
  {
   "cell_type": "markdown",
   "metadata": {},
   "source": [
    "# Multi-turn conversation with tools"
   ]
  },
  {
   "cell_type": "markdown",
   "metadata": {},
   "source": [
    "### For OpenAI Chat Completion"
   ]
  },
  {
   "cell_type": "code",
   "execution_count": 55,
   "metadata": {},
   "outputs": [],
   "source": [
    "chat_openai = OpenAIFunctionalChat(\n",
    "    api_key_env_name=\"API_KEY\",\n",
    "    model_name=\"gpt-4o-mini-2024-07-18\",\n",
    "    tools=[power_disco_ball, start_music, dim_lights],\n",
    "    tool_configs=tool_configs,\n",
    "    conversation_memory=InMemoryConversationMemory(),\n",
    "    # conversation_memory=JSONConversationMemory(\"./test.json\"), # for serialization\n",
    ")"
   ]
  },
  {
   "cell_type": "code",
   "execution_count": 56,
   "metadata": {},
   "outputs": [
    {
     "data": {
      "text/plain": [
       "{'message': {'role': 'assistant',\n",
       "  'content': [{'text': 'The party mood is on! The disco ball is spinning, the music is playing energetically at 120 BPM, and the lights are dimmed to create the perfect atmosphere. Let the celebration begin! 🎉💃🕺'}],\n",
       "  'name': None},\n",
       " 'usage': {'model_name': 'gpt-4o-mini-2024-07-18',\n",
       "  'prompt_tokens': 134,\n",
       "  'completion_tokens': 47},\n",
       " 'prompt': [{'role': 'user',\n",
       "   'content': [{'type': 'text',\n",
       "     'text': 'Turn this place into a comfortable party mood!'}],\n",
       "   'name': 'User'},\n",
       "  {'content': None,\n",
       "   'refusal': None,\n",
       "   'role': 'assistant',\n",
       "   'function_call': None,\n",
       "   'tool_calls': [{'id': 'call_bPGkiTxGm7g5iTpV5XrhtGFu',\n",
       "     'function': {'arguments': '{\"power\": true}', 'name': 'power_disco_ball'},\n",
       "     'type': 'function'},\n",
       "    {'id': 'call_yA4AXSZ3VVeA7q0bGN2B1T6k',\n",
       "     'function': {'arguments': '{\"energetic\": true, \"loud\": true, \"bpm\": \"120\"}',\n",
       "      'name': 'start_music'},\n",
       "     'type': 'function'},\n",
       "    {'id': 'call_wvXyBNpZR7VO4FYO59gw1c9L',\n",
       "     'function': {'arguments': '{\"brightness\": 0.5}', 'name': 'dim_lights'},\n",
       "     'type': 'function'}]},\n",
       "  {'role': 'tool',\n",
       "   'tool_call_id': 'call_bPGkiTxGm7g5iTpV5XrhtGFu',\n",
       "   'name': 'power_disco_ball',\n",
       "   'content': 'Disco ball is spinning!'},\n",
       "  {'role': 'tool',\n",
       "   'tool_call_id': 'call_yA4AXSZ3VVeA7q0bGN2B1T6k',\n",
       "   'name': 'start_music',\n",
       "   'content': \"Starting music! energetic=True loud=True, bpm='120'\"},\n",
       "  {'role': 'tool',\n",
       "   'tool_call_id': 'call_wvXyBNpZR7VO4FYO59gw1c9L',\n",
       "   'name': 'dim_lights',\n",
       "   'content': 'Lights are now set to 0.5'}]}"
      ]
     },
     "execution_count": 56,
     "metadata": {},
     "output_type": "execute_result"
    }
   ],
   "source": [
    "prompt = \"Turn this place into a comfortable party mood!\"\n",
    "\n",
    "response = chat_openai.run(prompt=prompt)\n",
    "\n",
    "# Show result\n",
    "response.model_dump()"
   ]
  },
  {
   "cell_type": "markdown",
   "metadata": {},
   "source": [
    "Next turn"
   ]
  },
  {
   "cell_type": "code",
   "execution_count": 57,
   "metadata": {},
   "outputs": [
    {
     "data": {
      "text/plain": [
       "{'message': {'role': 'assistant',\n",
       "  'content': [{'text': \"The music's BPM has been increased to 180! Get ready to dance and have an even more energetic time! 🎶💥\"}],\n",
       "  'name': None},\n",
       " 'usage': {'model_name': 'gpt-4o-mini-2024-07-18',\n",
       "  'prompt_tokens': 246,\n",
       "  'completion_tokens': 27},\n",
       " 'prompt': [{'role': 'user',\n",
       "   'content': [{'type': 'text',\n",
       "     'text': 'Turn this place into a comfortable party mood!'}],\n",
       "   'name': 'User'},\n",
       "  {'content': None,\n",
       "   'refusal': None,\n",
       "   'role': 'assistant',\n",
       "   'function_call': None,\n",
       "   'tool_calls': [{'id': 'call_bPGkiTxGm7g5iTpV5XrhtGFu',\n",
       "     'function': {'arguments': '{\"power\": true}', 'name': 'power_disco_ball'},\n",
       "     'type': 'function'},\n",
       "    {'id': 'call_yA4AXSZ3VVeA7q0bGN2B1T6k',\n",
       "     'function': {'arguments': '{\"energetic\": true, \"loud\": true, \"bpm\": \"120\"}',\n",
       "      'name': 'start_music'},\n",
       "     'type': 'function'},\n",
       "    {'id': 'call_wvXyBNpZR7VO4FYO59gw1c9L',\n",
       "     'function': {'arguments': '{\"brightness\": 0.5}', 'name': 'dim_lights'},\n",
       "     'type': 'function'}]},\n",
       "  {'role': 'tool',\n",
       "   'tool_call_id': 'call_bPGkiTxGm7g5iTpV5XrhtGFu',\n",
       "   'name': 'power_disco_ball',\n",
       "   'content': 'Disco ball is spinning!'},\n",
       "  {'role': 'tool',\n",
       "   'tool_call_id': 'call_yA4AXSZ3VVeA7q0bGN2B1T6k',\n",
       "   'name': 'start_music',\n",
       "   'content': \"Starting music! energetic=True loud=True, bpm='120'\"},\n",
       "  {'role': 'tool',\n",
       "   'tool_call_id': 'call_wvXyBNpZR7VO4FYO59gw1c9L',\n",
       "   'name': 'dim_lights',\n",
       "   'content': 'Lights are now set to 0.5'},\n",
       "  {'role': 'assistant',\n",
       "   'content': [{'type': 'text',\n",
       "     'text': 'The party mood is on! The disco ball is spinning, the music is playing energetically at 120 BPM, and the lights are dimmed to create the perfect atmosphere. Let the celebration begin! 🎉💃🕺'}],\n",
       "   'name': 'Assistant'},\n",
       "  {'role': 'user',\n",
       "   'content': [{'type': 'text', 'text': 'Can you make bpm up more?'}],\n",
       "   'name': 'User'},\n",
       "  {'content': None,\n",
       "   'refusal': None,\n",
       "   'role': 'assistant',\n",
       "   'function_call': None,\n",
       "   'tool_calls': [{'id': 'call_SIgYn0sfQPxNl9ZpdRqqncd1',\n",
       "     'function': {'arguments': '{\"energetic\":true,\"loud\":true,\"bpm\":\"180\"}',\n",
       "      'name': 'start_music'},\n",
       "     'type': 'function'}]},\n",
       "  {'role': 'tool',\n",
       "   'tool_call_id': 'call_SIgYn0sfQPxNl9ZpdRqqncd1',\n",
       "   'name': 'start_music',\n",
       "   'content': \"Starting music! energetic=True loud=True, bpm='180'\"}]}"
      ]
     },
     "execution_count": 57,
     "metadata": {},
     "output_type": "execute_result"
    }
   ],
   "source": [
    "prompt = \"Can you make bpm up more?\"\n",
    "\n",
    "response = chat_openai.run(prompt=prompt)\n",
    "\n",
    "response.model_dump()"
   ]
  },
  {
   "cell_type": "markdown",
   "metadata": {},
   "source": [
    "### For Gemini"
   ]
  },
  {
   "cell_type": "code",
   "execution_count": 58,
   "metadata": {},
   "outputs": [],
   "source": [
    "gemini = GeminiFunctionalChat(\n",
    "    api_key_env_name=\"GEMINI_API_KEY\",\n",
    "    model_name=\"gemini-1.5-pro\",\n",
    "    tools=[power_disco_ball, start_music, dim_lights],\n",
    "    tool_configs=tool_configs,\n",
    "    conversation_memory=InMemoryConversationMemory(),\n",
    "    # conversation_memory=JSONConversationMemory(\"./test.json\"), # for serialization\n",
    ")"
   ]
  },
  {
   "cell_type": "code",
   "execution_count": 59,
   "metadata": {},
   "outputs": [
    {
     "data": {
      "text/plain": [
       "{'message': {'role': 'assistant',\n",
       "  'content': [{'text': \"Alright, everyone! Time to get this party started! The disco ball is on, the music is pumping, and the lights are low. Let's go! 🎉 🎶 🕺 \\n\"}],\n",
       "  'name': None},\n",
       " 'usage': {'model_name': 'gemini-1.5-pro',\n",
       "  'prompt_tokens': 145,\n",
       "  'completion_tokens': 38},\n",
       " 'prompt': [parts {\n",
       "    text: \"Turn this place into a comfortable party mood!\"\n",
       "  }\n",
       "  role: \"user\",\n",
       "  parts {\n",
       "    function_call {\n",
       "      name: \"power_disco_ball\"\n",
       "      args {\n",
       "        fields {\n",
       "          key: \"power\"\n",
       "          value {\n",
       "            bool_value: true\n",
       "          }\n",
       "        }\n",
       "      }\n",
       "    }\n",
       "  }\n",
       "  parts {\n",
       "    function_call {\n",
       "      name: \"start_music\"\n",
       "      args {\n",
       "        fields {\n",
       "          key: \"loud\"\n",
       "          value {\n",
       "            bool_value: true\n",
       "          }\n",
       "        }\n",
       "        fields {\n",
       "          key: \"energetic\"\n",
       "          value {\n",
       "            bool_value: true\n",
       "          }\n",
       "        }\n",
       "        fields {\n",
       "          key: \"bpm\"\n",
       "          value {\n",
       "            string_value: \"120\"\n",
       "          }\n",
       "        }\n",
       "      }\n",
       "    }\n",
       "  }\n",
       "  parts {\n",
       "    function_call {\n",
       "      name: \"dim_lights\"\n",
       "      args {\n",
       "        fields {\n",
       "          key: \"brightness\"\n",
       "          value {\n",
       "            number_value: 0.5\n",
       "          }\n",
       "        }\n",
       "      }\n",
       "    }\n",
       "  }\n",
       "  role: \"model\",\n",
       "  parts {\n",
       "    function_response {\n",
       "      name: \"power_disco_ball\"\n",
       "      response {\n",
       "        fields {\n",
       "          key: \"content\"\n",
       "          value {\n",
       "            string_value: \"Disco ball is spinning!\"\n",
       "          }\n",
       "        }\n",
       "      }\n",
       "    }\n",
       "  }\n",
       "  parts {\n",
       "    function_response {\n",
       "      name: \"start_music\"\n",
       "      response {\n",
       "        fields {\n",
       "          key: \"content\"\n",
       "          value {\n",
       "            string_value: \"Starting music! energetic=True loud=True, bpm=\\'120\\'\"\n",
       "          }\n",
       "        }\n",
       "      }\n",
       "    }\n",
       "  }\n",
       "  parts {\n",
       "    function_response {\n",
       "      name: \"dim_lights\"\n",
       "      response {\n",
       "        fields {\n",
       "          key: \"content\"\n",
       "          value {\n",
       "            string_value: \"Lights are now set to 0.5\"\n",
       "          }\n",
       "        }\n",
       "      }\n",
       "    }\n",
       "  }\n",
       "  role: \"function\"]}"
      ]
     },
     "execution_count": 59,
     "metadata": {},
     "output_type": "execute_result"
    }
   ],
   "source": [
    "prompt = \"Turn this place into a comfortable party mood!\"\n",
    "\n",
    "response = gemini.run(prompt=prompt)\n",
    "\n",
    "# Show result\n",
    "response.model_dump()"
   ]
  },
  {
   "cell_type": "markdown",
   "metadata": {},
   "source": [
    "Tool calling is not needed additionally if the thing is already known."
   ]
  },
  {
   "cell_type": "code",
   "execution_count": 60,
   "metadata": {},
   "outputs": [
    {
     "data": {
      "text/plain": [
       "{'message': {'role': 'assistant',\n",
       "  'content': [{'text': 'The current music bpm is 120. 🎶 \\n'}],\n",
       "  'name': None},\n",
       " 'usage': {'model_name': 'gemini-1.5-pro',\n",
       "  'prompt_tokens': 193,\n",
       "  'completion_tokens': 12},\n",
       " 'prompt': [parts {\n",
       "    text: \"Turn this place into a comfortable party mood!\"\n",
       "  }\n",
       "  role: \"user\",\n",
       "  parts {\n",
       "    function_call {\n",
       "      name: \"power_disco_ball\"\n",
       "      args {\n",
       "        fields {\n",
       "          key: \"power\"\n",
       "          value {\n",
       "            bool_value: true\n",
       "          }\n",
       "        }\n",
       "      }\n",
       "    }\n",
       "  }\n",
       "  parts {\n",
       "    function_call {\n",
       "      name: \"start_music\"\n",
       "      args {\n",
       "        fields {\n",
       "          key: \"loud\"\n",
       "          value {\n",
       "            bool_value: true\n",
       "          }\n",
       "        }\n",
       "        fields {\n",
       "          key: \"energetic\"\n",
       "          value {\n",
       "            bool_value: true\n",
       "          }\n",
       "        }\n",
       "        fields {\n",
       "          key: \"bpm\"\n",
       "          value {\n",
       "            string_value: \"120\"\n",
       "          }\n",
       "        }\n",
       "      }\n",
       "    }\n",
       "  }\n",
       "  parts {\n",
       "    function_call {\n",
       "      name: \"dim_lights\"\n",
       "      args {\n",
       "        fields {\n",
       "          key: \"brightness\"\n",
       "          value {\n",
       "            number_value: 0.5\n",
       "          }\n",
       "        }\n",
       "      }\n",
       "    }\n",
       "  }\n",
       "  role: \"model\",\n",
       "  parts {\n",
       "    function_response {\n",
       "      name: \"power_disco_ball\"\n",
       "      response {\n",
       "        fields {\n",
       "          key: \"content\"\n",
       "          value {\n",
       "            string_value: \"Disco ball is spinning!\"\n",
       "          }\n",
       "        }\n",
       "      }\n",
       "    }\n",
       "  }\n",
       "  parts {\n",
       "    function_response {\n",
       "      name: \"start_music\"\n",
       "      response {\n",
       "        fields {\n",
       "          key: \"content\"\n",
       "          value {\n",
       "            string_value: \"Starting music! energetic=True loud=True, bpm=\\'120\\'\"\n",
       "          }\n",
       "        }\n",
       "      }\n",
       "    }\n",
       "  }\n",
       "  parts {\n",
       "    function_response {\n",
       "      name: \"dim_lights\"\n",
       "      response {\n",
       "        fields {\n",
       "          key: \"content\"\n",
       "          value {\n",
       "            string_value: \"Lights are now set to 0.5\"\n",
       "          }\n",
       "        }\n",
       "      }\n",
       "    }\n",
       "  }\n",
       "  role: \"function\",\n",
       "  parts {\n",
       "    text: \"Alright, everyone! Time to get this party started! The disco ball is on, the music is pumping, and the lights are low. Let\\'s go! 🎉 🎶 🕺 \\n\"\n",
       "  }\n",
       "  role: \"model\",\n",
       "  parts {\n",
       "    text: \"What is the current bpm?\"\n",
       "  }\n",
       "  role: \"user\"]}"
      ]
     },
     "execution_count": 60,
     "metadata": {},
     "output_type": "execute_result"
    }
   ],
   "source": [
    "prompt = \"What is the current bpm?\"\n",
    "\n",
    "response = gemini.run(prompt=prompt)\n",
    "\n",
    "response.model_dump()"
   ]
  },
  {
   "cell_type": "markdown",
   "metadata": {},
   "source": [
    "## Multi-turn conversation using tools with multiple model"
   ]
  },
  {
   "cell_type": "markdown",
   "metadata": {},
   "source": [
    "The universal message and tool system allows us to chat multiple model across client."
   ]
  },
  {
   "cell_type": "code",
   "execution_count": 62,
   "metadata": {},
   "outputs": [],
   "source": [
    "from langrila import InMemoryConversationMemory\n",
    "\n",
    "shared_memory = InMemoryConversationMemory()\n",
    "\n",
    "chat_openai = OpenAIFunctionalChat(\n",
    "    api_key_env_name=\"API_KEY\",\n",
    "    model_name=\"gpt-4o-mini-2024-07-18\",\n",
    "    tools=[power_disco_ball, start_music, dim_lights],\n",
    "    tool_configs=tool_configs,\n",
    "    conversation_memory=shared_memory,\n",
    ")\n",
    "\n",
    "gemini = GeminiFunctionalChat(\n",
    "    api_key_env_name=\"GEMINI_API_KEY\",\n",
    "    model_name=\"gemini-1.5-pro\",\n",
    "    tools=[power_disco_ball, start_music, dim_lights],\n",
    "    tool_configs=tool_configs,\n",
    "    conversation_memory=shared_memory,\n",
    ")\n",
    "\n",
    "claude = ClaudeFunctionalChat(\n",
    "    model_name=\"claude-3-5-sonnet-20240620\",\n",
    "    api_key_env_name=\"ANTHROPIC_API_KEY\",\n",
    "    tools=[power_disco_ball, start_music, dim_lights],\n",
    "    tool_configs=tool_configs,\n",
    "    conversation_memory=shared_memory,\n",
    ")"
   ]
  },
  {
   "cell_type": "code",
   "execution_count": 63,
   "metadata": {},
   "outputs": [
    {
     "data": {
      "text/plain": [
       "{'message': {'role': 'assistant',\n",
       "  'content': [{'text': 'The party mood is all set! The disco ball is spinning, energetic music is playing at a lively 120 BPM, and the lights are dimmed to create the perfect atmosphere. Let the fun begin! 🎉✨'}],\n",
       "  'name': None},\n",
       " 'usage': {'model_name': 'gpt-4o-mini-2024-07-18',\n",
       "  'prompt_tokens': 134,\n",
       "  'completion_tokens': 44},\n",
       " 'prompt': [{'role': 'user',\n",
       "   'content': [{'type': 'text',\n",
       "     'text': 'Turn this place into a comfortable party mood!'}],\n",
       "   'name': 'User'},\n",
       "  {'content': None,\n",
       "   'refusal': None,\n",
       "   'role': 'assistant',\n",
       "   'function_call': None,\n",
       "   'tool_calls': [{'id': 'call_FC5jRFdLgcEdqpLtzi5ccRYg',\n",
       "     'function': {'arguments': '{\"power\": true}', 'name': 'power_disco_ball'},\n",
       "     'type': 'function'},\n",
       "    {'id': 'call_QxykFPPxMzMvxEhJLl6WHTJt',\n",
       "     'function': {'arguments': '{\"energetic\": true, \"loud\": true, \"bpm\": \"120\"}',\n",
       "      'name': 'start_music'},\n",
       "     'type': 'function'},\n",
       "    {'id': 'call_7hxq6DIRa7OQZxQyVLBEMJjj',\n",
       "     'function': {'arguments': '{\"brightness\": 0.5}', 'name': 'dim_lights'},\n",
       "     'type': 'function'}]},\n",
       "  {'role': 'tool',\n",
       "   'tool_call_id': 'call_FC5jRFdLgcEdqpLtzi5ccRYg',\n",
       "   'name': 'power_disco_ball',\n",
       "   'content': 'Disco ball is spinning!'},\n",
       "  {'role': 'tool',\n",
       "   'tool_call_id': 'call_QxykFPPxMzMvxEhJLl6WHTJt',\n",
       "   'name': 'start_music',\n",
       "   'content': \"Starting music! energetic=True loud=True, bpm='120'\"},\n",
       "  {'role': 'tool',\n",
       "   'tool_call_id': 'call_7hxq6DIRa7OQZxQyVLBEMJjj',\n",
       "   'name': 'dim_lights',\n",
       "   'content': 'Lights are now set to 0.5'}]}"
      ]
     },
     "execution_count": 63,
     "metadata": {},
     "output_type": "execute_result"
    }
   ],
   "source": [
    "prompt = \"Turn this place into a comfortable party mood!\"\n",
    "\n",
    "response = chat_openai.run(prompt)\n",
    "\n",
    "response.model_dump()"
   ]
  },
  {
   "cell_type": "markdown",
   "metadata": {},
   "source": [
    "Claude can continue conversation without any additional process."
   ]
  },
  {
   "cell_type": "code",
   "execution_count": 64,
   "metadata": {},
   "outputs": [
    {
     "data": {
      "text/plain": [
       "{'message': {'role': 'assistant',\n",
       "  'content': [{'text': \"Great! I've increased the BPM to 180, which is the highest available option. The music is now playing at a much faster tempo, perfect for an energetic dance party. The beat is quicker, and it should really get people moving on the dance floor!\\n\\nIs there anything else you'd like to adjust to enhance the party mood further?\"}],\n",
       "  'name': None},\n",
       " 'usage': {'model_name': 'claude-3-5-sonnet-20240620',\n",
       "  'prompt_tokens': 1113,\n",
       "  'completion_tokens': 78},\n",
       " 'prompt': [{'role': 'user',\n",
       "   'content': [{'text': 'Turn this place into a comfortable party mood!',\n",
       "     'type': 'text'}]},\n",
       "  {'role': 'assistant',\n",
       "   'content': [{'id': 'toolu_FC5jRFdLgcEdqpLtzi5ccRYg',\n",
       "     'type': 'tool_use',\n",
       "     'input': {'power': True},\n",
       "     'name': 'power_disco_ball'},\n",
       "    {'id': 'toolu_QxykFPPxMzMvxEhJLl6WHTJt',\n",
       "     'type': 'tool_use',\n",
       "     'input': {'energetic': True, 'loud': True, 'bpm': '120'},\n",
       "     'name': 'start_music'},\n",
       "    {'id': 'toolu_7hxq6DIRa7OQZxQyVLBEMJjj',\n",
       "     'type': 'tool_use',\n",
       "     'input': {'brightness': 0.5},\n",
       "     'name': 'dim_lights'}]},\n",
       "  {'role': 'user',\n",
       "   'content': [{'tool_use_id': 'toolu_FC5jRFdLgcEdqpLtzi5ccRYg',\n",
       "     'type': 'tool_result',\n",
       "     'content': 'Disco ball is spinning!'},\n",
       "    {'tool_use_id': 'toolu_QxykFPPxMzMvxEhJLl6WHTJt',\n",
       "     'type': 'tool_result',\n",
       "     'content': \"Starting music! energetic=True loud=True, bpm='120'\"},\n",
       "    {'tool_use_id': 'toolu_7hxq6DIRa7OQZxQyVLBEMJjj',\n",
       "     'type': 'tool_result',\n",
       "     'content': 'Lights are now set to 0.5'}]},\n",
       "  {'role': 'assistant',\n",
       "   'content': [{'text': 'The party mood is all set! The disco ball is spinning, energetic music is playing at a lively 120 BPM, and the lights are dimmed to create the perfect atmosphere. Let the fun begin! 🎉✨',\n",
       "     'type': 'text'}]},\n",
       "  {'role': 'user',\n",
       "   'content': [{'text': 'Can you make bpm up more?', 'type': 'text'}]},\n",
       "  {'role': 'assistant',\n",
       "   'content': [{'text': \"Certainly! I can increase the BPM (beats per minute) of the music to make it more upbeat and energetic. The highest BPM option available is 180, which will definitely amp up the party atmosphere. Let's make that change for you.\",\n",
       "     'type': 'text'},\n",
       "    {'id': 'toolu_01442NBSQwPwvfyKHhzezdrK',\n",
       "     'type': 'tool_use',\n",
       "     'input': {'energetic': True, 'loud': True, 'bpm': '180'},\n",
       "     'name': 'start_music'}]},\n",
       "  {'role': 'user',\n",
       "   'content': [{'tool_use_id': 'toolu_01442NBSQwPwvfyKHhzezdrK',\n",
       "     'type': 'tool_result',\n",
       "     'content': \"Starting music! energetic=True loud=True, bpm='180'\"}]}]}"
      ]
     },
     "execution_count": 64,
     "metadata": {},
     "output_type": "execute_result"
    }
   ],
   "source": [
    "prompt = \"Can you make bpm up more?\"\n",
    "\n",
    "response = claude.run(prompt=prompt)\n",
    "\n",
    "response.model_dump()"
   ]
  },
  {
   "cell_type": "markdown",
   "metadata": {},
   "source": [
    "Go back to OpenAI Chat Completion"
   ]
  },
  {
   "cell_type": "code",
   "execution_count": 65,
   "metadata": {},
   "outputs": [
    {
     "data": {
      "text/plain": [
       "{'message': {'role': 'assistant',\n",
       "  'content': [{'text': \"I've switched to more relaxing music with a BPM of 60. The atmosphere should now be calm and soothing, perfect for winding down or enjoying some chill conversation. Let me know if you need any further adjustments!\"}],\n",
       "  'name': None},\n",
       " 'usage': {'model_name': 'gpt-4o-mini-2024-07-18',\n",
       "  'prompt_tokens': 377,\n",
       "  'completion_tokens': 42},\n",
       " 'prompt': [{'role': 'user',\n",
       "   'content': [{'type': 'text',\n",
       "     'text': 'Turn this place into a comfortable party mood!'}],\n",
       "   'name': 'User'},\n",
       "  {'content': None,\n",
       "   'refusal': None,\n",
       "   'role': 'assistant',\n",
       "   'function_call': None,\n",
       "   'tool_calls': [{'id': 'call_FC5jRFdLgcEdqpLtzi5ccRYg',\n",
       "     'function': {'arguments': '{\"power\": true}', 'name': 'power_disco_ball'},\n",
       "     'type': 'function'},\n",
       "    {'id': 'call_QxykFPPxMzMvxEhJLl6WHTJt',\n",
       "     'function': {'arguments': '{\"energetic\": true, \"loud\": true, \"bpm\": \"120\"}',\n",
       "      'name': 'start_music'},\n",
       "     'type': 'function'},\n",
       "    {'id': 'call_7hxq6DIRa7OQZxQyVLBEMJjj',\n",
       "     'function': {'arguments': '{\"brightness\": 0.5}', 'name': 'dim_lights'},\n",
       "     'type': 'function'}]},\n",
       "  {'role': 'tool',\n",
       "   'tool_call_id': 'call_FC5jRFdLgcEdqpLtzi5ccRYg',\n",
       "   'name': 'power_disco_ball',\n",
       "   'content': 'Disco ball is spinning!'},\n",
       "  {'role': 'tool',\n",
       "   'tool_call_id': 'call_QxykFPPxMzMvxEhJLl6WHTJt',\n",
       "   'name': 'start_music',\n",
       "   'content': \"Starting music! energetic=True loud=True, bpm='120'\"},\n",
       "  {'role': 'tool',\n",
       "   'tool_call_id': 'call_7hxq6DIRa7OQZxQyVLBEMJjj',\n",
       "   'name': 'dim_lights',\n",
       "   'content': 'Lights are now set to 0.5'},\n",
       "  {'role': 'assistant',\n",
       "   'content': [{'type': 'text',\n",
       "     'text': 'The party mood is all set! The disco ball is spinning, energetic music is playing at a lively 120 BPM, and the lights are dimmed to create the perfect atmosphere. Let the fun begin! 🎉✨'}],\n",
       "   'name': 'Assistant'},\n",
       "  {'role': 'user',\n",
       "   'content': [{'type': 'text', 'text': 'Can you make bpm up more?'}],\n",
       "   'name': 'User'},\n",
       "  {'content': None,\n",
       "   'refusal': None,\n",
       "   'role': 'assistant',\n",
       "   'function_call': None,\n",
       "   'tool_calls': [{'id': 'call_01442NBSQwPwvfyKHhzezdrK',\n",
       "     'function': {'arguments': \"{'energetic': True, 'loud': True, 'bpm': '180'}\",\n",
       "      'name': 'start_music'},\n",
       "     'type': 'function'}]},\n",
       "  {'role': 'tool',\n",
       "   'tool_call_id': 'call_01442NBSQwPwvfyKHhzezdrK',\n",
       "   'name': 'start_music',\n",
       "   'content': \"Starting music! energetic=True loud=True, bpm='180'\"},\n",
       "  {'role': 'assistant',\n",
       "   'content': [{'type': 'text',\n",
       "     'text': \"Great! I've increased the BPM to 180, which is the highest available option. The music is now playing at a much faster tempo, perfect for an energetic dance party. The beat is quicker, and it should really get people moving on the dance floor!\\n\\nIs there anything else you'd like to adjust to enhance the party mood further?\"}],\n",
       "   'name': 'Assistant'},\n",
       "  {'role': 'user',\n",
       "   'content': [{'type': 'text', 'text': 'Please turn music more relax.'}],\n",
       "   'name': 'User'},\n",
       "  {'content': None,\n",
       "   'refusal': None,\n",
       "   'role': 'assistant',\n",
       "   'function_call': None,\n",
       "   'tool_calls': [{'id': 'call_DOIrqzbwsI47dRpNsPNXNPDV',\n",
       "     'function': {'arguments': '{\"energetic\":false,\"loud\":true,\"bpm\":\"60\"}',\n",
       "      'name': 'start_music'},\n",
       "     'type': 'function'}]},\n",
       "  {'role': 'tool',\n",
       "   'tool_call_id': 'call_DOIrqzbwsI47dRpNsPNXNPDV',\n",
       "   'name': 'start_music',\n",
       "   'content': \"Starting music! energetic=False loud=True, bpm='60'\"}]}"
      ]
     },
     "execution_count": 65,
     "metadata": {},
     "output_type": "execute_result"
    }
   ],
   "source": [
    "prompt = \"Please turn music more relax.\"\n",
    "\n",
    "response = chat_openai.run(prompt)\n",
    "\n",
    "response.model_dump()"
   ]
  },
  {
   "cell_type": "markdown",
   "metadata": {},
   "source": [
    "Gemini can follow as well"
   ]
  },
  {
   "cell_type": "code",
   "execution_count": 66,
   "metadata": {},
   "outputs": [
    {
     "data": {
      "text/plain": [
       "{'message': {'role': 'assistant',\n",
       "  'content': [{'text': \"Alright! I've switched the music back to the initial 120 BPM. It's not as relaxed as 60 BPM, but it's not overly energetic either, offering a good balance for a comfortable party atmosphere. 🎶 \\n\\nFeel free to ask for any other adjustments – I'm here to help you set the perfect mood! 😊 \\n\"}],\n",
       "  'name': None},\n",
       " 'usage': {'model_name': 'gemini-1.5-pro',\n",
       "  'prompt_tokens': 562,\n",
       "  'completion_tokens': 75},\n",
       " 'prompt': [parts {\n",
       "    text: \"Turn this place into a comfortable party mood!\"\n",
       "  }\n",
       "  role: \"user\",\n",
       "  parts {\n",
       "    function_call {\n",
       "      name: \"power_disco_ball\"\n",
       "      args {\n",
       "        fields {\n",
       "          key: \"power\"\n",
       "          value {\n",
       "            bool_value: true\n",
       "          }\n",
       "        }\n",
       "      }\n",
       "    }\n",
       "  }\n",
       "  parts {\n",
       "    function_call {\n",
       "      name: \"start_music\"\n",
       "      args {\n",
       "        fields {\n",
       "          key: \"loud\"\n",
       "          value {\n",
       "            bool_value: true\n",
       "          }\n",
       "        }\n",
       "        fields {\n",
       "          key: \"energetic\"\n",
       "          value {\n",
       "            bool_value: true\n",
       "          }\n",
       "        }\n",
       "        fields {\n",
       "          key: \"bpm\"\n",
       "          value {\n",
       "            string_value: \"120\"\n",
       "          }\n",
       "        }\n",
       "      }\n",
       "    }\n",
       "  }\n",
       "  parts {\n",
       "    function_call {\n",
       "      name: \"dim_lights\"\n",
       "      args {\n",
       "        fields {\n",
       "          key: \"brightness\"\n",
       "          value {\n",
       "            number_value: 0.5\n",
       "          }\n",
       "        }\n",
       "      }\n",
       "    }\n",
       "  }\n",
       "  role: \"model\",\n",
       "  parts {\n",
       "    function_response {\n",
       "      name: \"power_disco_ball\"\n",
       "      response {\n",
       "        fields {\n",
       "          key: \"content\"\n",
       "          value {\n",
       "            string_value: \"Disco ball is spinning!\"\n",
       "          }\n",
       "        }\n",
       "      }\n",
       "    }\n",
       "  }\n",
       "  parts {\n",
       "    function_response {\n",
       "      name: \"start_music\"\n",
       "      response {\n",
       "        fields {\n",
       "          key: \"content\"\n",
       "          value {\n",
       "            string_value: \"Starting music! energetic=True loud=True, bpm=\\'120\\'\"\n",
       "          }\n",
       "        }\n",
       "      }\n",
       "    }\n",
       "  }\n",
       "  parts {\n",
       "    function_response {\n",
       "      name: \"dim_lights\"\n",
       "      response {\n",
       "        fields {\n",
       "          key: \"content\"\n",
       "          value {\n",
       "            string_value: \"Lights are now set to 0.5\"\n",
       "          }\n",
       "        }\n",
       "      }\n",
       "    }\n",
       "  }\n",
       "  role: \"function\",\n",
       "  parts {\n",
       "    text: \"The party mood is all set! The disco ball is spinning, energetic music is playing at a lively 120 BPM, and the lights are dimmed to create the perfect atmosphere. Let the fun begin! 🎉✨\"\n",
       "  }\n",
       "  role: \"model\",\n",
       "  parts {\n",
       "    text: \"Can you make bpm up more?\"\n",
       "  }\n",
       "  role: \"user\",\n",
       "  parts {\n",
       "    text: \"Certainly! I can increase the BPM (beats per minute) of the music to make it more upbeat and energetic. The highest BPM option available is 180, which will definitely amp up the party atmosphere. Let\\'s make that change for you.\"\n",
       "  }\n",
       "  parts {\n",
       "    function_call {\n",
       "      name: \"start_music\"\n",
       "      args {\n",
       "        fields {\n",
       "          key: \"loud\"\n",
       "          value {\n",
       "            bool_value: true\n",
       "          }\n",
       "        }\n",
       "        fields {\n",
       "          key: \"energetic\"\n",
       "          value {\n",
       "            bool_value: true\n",
       "          }\n",
       "        }\n",
       "        fields {\n",
       "          key: \"bpm\"\n",
       "          value {\n",
       "            string_value: \"180\"\n",
       "          }\n",
       "        }\n",
       "      }\n",
       "    }\n",
       "  }\n",
       "  role: \"model\",\n",
       "  parts {\n",
       "    function_response {\n",
       "      name: \"start_music\"\n",
       "      response {\n",
       "        fields {\n",
       "          key: \"content\"\n",
       "          value {\n",
       "            string_value: \"Starting music! energetic=True loud=True, bpm=\\'180\\'\"\n",
       "          }\n",
       "        }\n",
       "      }\n",
       "    }\n",
       "  }\n",
       "  role: \"function\",\n",
       "  parts {\n",
       "    text: \"Great! I\\'ve increased the BPM to 180, which is the highest available option. The music is now playing at a much faster tempo, perfect for an energetic dance party. The beat is quicker, and it should really get people moving on the dance floor!\\n\\nIs there anything else you\\'d like to adjust to enhance the party mood further?\"\n",
       "  }\n",
       "  role: \"model\",\n",
       "  parts {\n",
       "    text: \"Please turn music more relax.\"\n",
       "  }\n",
       "  role: \"user\",\n",
       "  parts {\n",
       "    function_call {\n",
       "      name: \"start_music\"\n",
       "      args {\n",
       "        fields {\n",
       "          key: \"loud\"\n",
       "          value {\n",
       "            bool_value: true\n",
       "          }\n",
       "        }\n",
       "        fields {\n",
       "          key: \"energetic\"\n",
       "          value {\n",
       "            bool_value: false\n",
       "          }\n",
       "        }\n",
       "        fields {\n",
       "          key: \"bpm\"\n",
       "          value {\n",
       "            string_value: \"60\"\n",
       "          }\n",
       "        }\n",
       "      }\n",
       "    }\n",
       "  }\n",
       "  role: \"model\",\n",
       "  parts {\n",
       "    function_response {\n",
       "      name: \"start_music\"\n",
       "      response {\n",
       "        fields {\n",
       "          key: \"content\"\n",
       "          value {\n",
       "            string_value: \"Starting music! energetic=False loud=True, bpm=\\'60\\'\"\n",
       "          }\n",
       "        }\n",
       "      }\n",
       "    }\n",
       "  }\n",
       "  role: \"function\",\n",
       "  parts {\n",
       "    text: \"I\\'ve switched to more relaxing music with a BPM of 60. The atmosphere should now be calm and soothing, perfect for winding down or enjoying some chill conversation. Let me know if you need any further adjustments!\"\n",
       "  }\n",
       "  role: \"model\",\n",
       "  parts {\n",
       "    text: \"Nice. So please go back to the initial bpm.\"\n",
       "  }\n",
       "  role: \"user\",\n",
       "  parts {\n",
       "    function_call {\n",
       "      name: \"start_music\"\n",
       "      args {\n",
       "        fields {\n",
       "          key: \"loud\"\n",
       "          value {\n",
       "            bool_value: true\n",
       "          }\n",
       "        }\n",
       "        fields {\n",
       "          key: \"energetic\"\n",
       "          value {\n",
       "            bool_value: true\n",
       "          }\n",
       "        }\n",
       "        fields {\n",
       "          key: \"bpm\"\n",
       "          value {\n",
       "            string_value: \"120\"\n",
       "          }\n",
       "        }\n",
       "      }\n",
       "    }\n",
       "  }\n",
       "  role: \"model\",\n",
       "  parts {\n",
       "    function_response {\n",
       "      name: \"start_music\"\n",
       "      response {\n",
       "        fields {\n",
       "          key: \"content\"\n",
       "          value {\n",
       "            string_value: \"Starting music! energetic=True loud=True, bpm=\\'120\\'\"\n",
       "          }\n",
       "        }\n",
       "      }\n",
       "    }\n",
       "  }\n",
       "  role: \"function\"]}"
      ]
     },
     "execution_count": 66,
     "metadata": {},
     "output_type": "execute_result"
    }
   ],
   "source": [
    "prompt = \"Nice. So please go back to the initial bpm.\"\n",
    "\n",
    "response = gemini.run(prompt=prompt)\n",
    "\n",
    "response.model_dump()"
   ]
  },
  {
   "cell_type": "code",
   "execution_count": 67,
   "metadata": {},
   "outputs": [
    {
     "data": {
      "text/plain": [
       "{'message': {'role': 'assistant',\n",
       "  'content': [{'text': \"Great! I've increased the brightness of the lights to 0.7. This setting should provide a bit more illumination than before, creating a livelier atmosphere while still maintaining a party vibe. The room should now be noticeably brighter but not overly lit.\\n\\nTo recap the current party setup:\\n1. The disco ball is spinning\\n2. The music is playing at 120 BPM, energetic and loud\\n3. The lights are now set at 0.7 brightness\\n\\nIs there anything else you'd like to adjust or any other changes you want to make to the party atmosphere?\"}],\n",
       "  'name': None},\n",
       " 'usage': {'model_name': 'claude-3-5-sonnet-20240620',\n",
       "  'prompt_tokens': 1707,\n",
       "  'completion_tokens': 134},\n",
       " 'prompt': [{'role': 'user',\n",
       "   'content': [{'text': 'Turn this place into a comfortable party mood!',\n",
       "     'type': 'text'}]},\n",
       "  {'role': 'assistant',\n",
       "   'content': [{'id': 'toolu_FC5jRFdLgcEdqpLtzi5ccRYg',\n",
       "     'type': 'tool_use',\n",
       "     'input': {'power': True},\n",
       "     'name': 'power_disco_ball'},\n",
       "    {'id': 'toolu_QxykFPPxMzMvxEhJLl6WHTJt',\n",
       "     'type': 'tool_use',\n",
       "     'input': {'energetic': True, 'loud': True, 'bpm': '120'},\n",
       "     'name': 'start_music'},\n",
       "    {'id': 'toolu_7hxq6DIRa7OQZxQyVLBEMJjj',\n",
       "     'type': 'tool_use',\n",
       "     'input': {'brightness': 0.5},\n",
       "     'name': 'dim_lights'}]},\n",
       "  {'role': 'user',\n",
       "   'content': [{'tool_use_id': 'toolu_FC5jRFdLgcEdqpLtzi5ccRYg',\n",
       "     'type': 'tool_result',\n",
       "     'content': 'Disco ball is spinning!'},\n",
       "    {'tool_use_id': 'toolu_QxykFPPxMzMvxEhJLl6WHTJt',\n",
       "     'type': 'tool_result',\n",
       "     'content': \"Starting music! energetic=True loud=True, bpm='120'\"},\n",
       "    {'tool_use_id': 'toolu_7hxq6DIRa7OQZxQyVLBEMJjj',\n",
       "     'type': 'tool_result',\n",
       "     'content': 'Lights are now set to 0.5'}]},\n",
       "  {'role': 'assistant',\n",
       "   'content': [{'text': 'The party mood is all set! The disco ball is spinning, energetic music is playing at a lively 120 BPM, and the lights are dimmed to create the perfect atmosphere. Let the fun begin! 🎉✨',\n",
       "     'type': 'text'}]},\n",
       "  {'role': 'user',\n",
       "   'content': [{'text': 'Can you make bpm up more?', 'type': 'text'}]},\n",
       "  {'role': 'assistant',\n",
       "   'content': [{'text': \"Certainly! I can increase the BPM (beats per minute) of the music to make it more upbeat and energetic. The highest BPM option available is 180, which will definitely amp up the party atmosphere. Let's make that change for you.\",\n",
       "     'type': 'text'},\n",
       "    {'id': 'toolu_01442NBSQwPwvfyKHhzezdrK',\n",
       "     'type': 'tool_use',\n",
       "     'input': {'energetic': True, 'loud': True, 'bpm': '180'},\n",
       "     'name': 'start_music'}]},\n",
       "  {'role': 'user',\n",
       "   'content': [{'tool_use_id': 'toolu_01442NBSQwPwvfyKHhzezdrK',\n",
       "     'type': 'tool_result',\n",
       "     'content': \"Starting music! energetic=True loud=True, bpm='180'\"}]},\n",
       "  {'role': 'assistant',\n",
       "   'content': [{'text': \"Great! I've increased the BPM to 180, which is the highest available option. The music is now playing at a much faster tempo, perfect for an energetic dance party. The beat is quicker, and it should really get people moving on the dance floor!\\n\\nIs there anything else you'd like to adjust to enhance the party mood further?\",\n",
       "     'type': 'text'}]},\n",
       "  {'role': 'user',\n",
       "   'content': [{'text': 'Please turn music more relax.', 'type': 'text'}]},\n",
       "  {'role': 'assistant',\n",
       "   'content': [{'id': 'toolu_DOIrqzbwsI47dRpNsPNXNPDV',\n",
       "     'type': 'tool_use',\n",
       "     'input': {'energetic': False, 'loud': True, 'bpm': '60'},\n",
       "     'name': 'start_music'}]},\n",
       "  {'role': 'user',\n",
       "   'content': [{'tool_use_id': 'toolu_DOIrqzbwsI47dRpNsPNXNPDV',\n",
       "     'type': 'tool_result',\n",
       "     'content': \"Starting music! energetic=False loud=True, bpm='60'\"}]},\n",
       "  {'role': 'assistant',\n",
       "   'content': [{'text': \"I've switched to more relaxing music with a BPM of 60. The atmosphere should now be calm and soothing, perfect for winding down or enjoying some chill conversation. Let me know if you need any further adjustments!\",\n",
       "     'type': 'text'}]},\n",
       "  {'role': 'user',\n",
       "   'content': [{'text': 'Nice. So please go back to the initial bpm.',\n",
       "     'type': 'text'}]},\n",
       "  {'role': 'assistant',\n",
       "   'content': [{'id': 'toolu_UwrBSKyj6GVqHOEhztSQp3Wb',\n",
       "     'type': 'tool_use',\n",
       "     'input': {'loud': True, 'energetic': True, 'bpm': '120'},\n",
       "     'name': 'start_music'}]},\n",
       "  {'role': 'user',\n",
       "   'content': [{'tool_use_id': 'toolu_UwrBSKyj6GVqHOEhztSQp3Wb',\n",
       "     'type': 'tool_result',\n",
       "     'content': \"Starting music! energetic=True loud=True, bpm='120'\"}]},\n",
       "  {'role': 'assistant',\n",
       "   'content': [{'text': \"Alright! I've switched the music back to the initial 120 BPM. It's not as relaxed as 60 BPM, but it's not overly energetic either, offering a good balance for a comfortable party atmosphere. 🎶 \\n\\nFeel free to ask for any other adjustments – I'm here to help you set the perfect mood! 😊 \\n\",\n",
       "     'type': 'text'}]},\n",
       "  {'role': 'user',\n",
       "   'content': [{'text': 'OK, then turn brightness to 0.7.', 'type': 'text'}]},\n",
       "  {'role': 'assistant',\n",
       "   'content': [{'text': \"Certainly! I'll adjust the brightness of the lights to 0.7 for you right away.\",\n",
       "     'type': 'text'},\n",
       "    {'id': 'toolu_01QKiGrxkVCHDwdY3vjBoVTh',\n",
       "     'type': 'tool_use',\n",
       "     'input': {'brightness': 0.7},\n",
       "     'name': 'dim_lights'}]},\n",
       "  {'role': 'user',\n",
       "   'content': [{'tool_use_id': 'toolu_01QKiGrxkVCHDwdY3vjBoVTh',\n",
       "     'type': 'tool_result',\n",
       "     'content': 'Lights are now set to 0.7'}]}]}"
      ]
     },
     "execution_count": 67,
     "metadata": {},
     "output_type": "execute_result"
    }
   ],
   "source": [
    "prompt = \"OK, then turn brightness to 0.7.\"\n",
    "\n",
    "response = claude.run(prompt=prompt)\n",
    "\n",
    "response.model_dump()"
   ]
  },
  {
   "cell_type": "code",
   "execution_count": 68,
   "metadata": {},
   "outputs": [
    {
     "data": {
      "text/plain": [
       "{'message': {'role': 'assistant',\n",
       "  'content': [{'text': \"No problem, I've stopped the disco ball. It's no longer spinning. \\n\\nEnjoy the rest of the party! Let me know if there's anything else I can do to help fine-tune the atmosphere. 🎉 \\n\"}],\n",
       "  'name': None},\n",
       " 'usage': {'model_name': 'gemini-1.5-pro',\n",
       "  'prompt_tokens': 885,\n",
       "  'completion_tokens': 48},\n",
       " 'prompt': [parts {\n",
       "    text: \"Turn this place into a comfortable party mood!\"\n",
       "  }\n",
       "  role: \"user\",\n",
       "  parts {\n",
       "    function_call {\n",
       "      name: \"power_disco_ball\"\n",
       "      args {\n",
       "        fields {\n",
       "          key: \"power\"\n",
       "          value {\n",
       "            bool_value: true\n",
       "          }\n",
       "        }\n",
       "      }\n",
       "    }\n",
       "  }\n",
       "  parts {\n",
       "    function_call {\n",
       "      name: \"start_music\"\n",
       "      args {\n",
       "        fields {\n",
       "          key: \"loud\"\n",
       "          value {\n",
       "            bool_value: true\n",
       "          }\n",
       "        }\n",
       "        fields {\n",
       "          key: \"energetic\"\n",
       "          value {\n",
       "            bool_value: true\n",
       "          }\n",
       "        }\n",
       "        fields {\n",
       "          key: \"bpm\"\n",
       "          value {\n",
       "            string_value: \"120\"\n",
       "          }\n",
       "        }\n",
       "      }\n",
       "    }\n",
       "  }\n",
       "  parts {\n",
       "    function_call {\n",
       "      name: \"dim_lights\"\n",
       "      args {\n",
       "        fields {\n",
       "          key: \"brightness\"\n",
       "          value {\n",
       "            number_value: 0.5\n",
       "          }\n",
       "        }\n",
       "      }\n",
       "    }\n",
       "  }\n",
       "  role: \"model\",\n",
       "  parts {\n",
       "    function_response {\n",
       "      name: \"power_disco_ball\"\n",
       "      response {\n",
       "        fields {\n",
       "          key: \"content\"\n",
       "          value {\n",
       "            string_value: \"Disco ball is spinning!\"\n",
       "          }\n",
       "        }\n",
       "      }\n",
       "    }\n",
       "  }\n",
       "  parts {\n",
       "    function_response {\n",
       "      name: \"start_music\"\n",
       "      response {\n",
       "        fields {\n",
       "          key: \"content\"\n",
       "          value {\n",
       "            string_value: \"Starting music! energetic=True loud=True, bpm=\\'120\\'\"\n",
       "          }\n",
       "        }\n",
       "      }\n",
       "    }\n",
       "  }\n",
       "  parts {\n",
       "    function_response {\n",
       "      name: \"dim_lights\"\n",
       "      response {\n",
       "        fields {\n",
       "          key: \"content\"\n",
       "          value {\n",
       "            string_value: \"Lights are now set to 0.5\"\n",
       "          }\n",
       "        }\n",
       "      }\n",
       "    }\n",
       "  }\n",
       "  role: \"function\",\n",
       "  parts {\n",
       "    text: \"The party mood is all set! The disco ball is spinning, energetic music is playing at a lively 120 BPM, and the lights are dimmed to create the perfect atmosphere. Let the fun begin! 🎉✨\"\n",
       "  }\n",
       "  role: \"model\",\n",
       "  parts {\n",
       "    text: \"Can you make bpm up more?\"\n",
       "  }\n",
       "  role: \"user\",\n",
       "  parts {\n",
       "    text: \"Certainly! I can increase the BPM (beats per minute) of the music to make it more upbeat and energetic. The highest BPM option available is 180, which will definitely amp up the party atmosphere. Let\\'s make that change for you.\"\n",
       "  }\n",
       "  parts {\n",
       "    function_call {\n",
       "      name: \"start_music\"\n",
       "      args {\n",
       "        fields {\n",
       "          key: \"loud\"\n",
       "          value {\n",
       "            bool_value: true\n",
       "          }\n",
       "        }\n",
       "        fields {\n",
       "          key: \"energetic\"\n",
       "          value {\n",
       "            bool_value: true\n",
       "          }\n",
       "        }\n",
       "        fields {\n",
       "          key: \"bpm\"\n",
       "          value {\n",
       "            string_value: \"180\"\n",
       "          }\n",
       "        }\n",
       "      }\n",
       "    }\n",
       "  }\n",
       "  role: \"model\",\n",
       "  parts {\n",
       "    function_response {\n",
       "      name: \"start_music\"\n",
       "      response {\n",
       "        fields {\n",
       "          key: \"content\"\n",
       "          value {\n",
       "            string_value: \"Starting music! energetic=True loud=True, bpm=\\'180\\'\"\n",
       "          }\n",
       "        }\n",
       "      }\n",
       "    }\n",
       "  }\n",
       "  role: \"function\",\n",
       "  parts {\n",
       "    text: \"Great! I\\'ve increased the BPM to 180, which is the highest available option. The music is now playing at a much faster tempo, perfect for an energetic dance party. The beat is quicker, and it should really get people moving on the dance floor!\\n\\nIs there anything else you\\'d like to adjust to enhance the party mood further?\"\n",
       "  }\n",
       "  role: \"model\",\n",
       "  parts {\n",
       "    text: \"Please turn music more relax.\"\n",
       "  }\n",
       "  role: \"user\",\n",
       "  parts {\n",
       "    function_call {\n",
       "      name: \"start_music\"\n",
       "      args {\n",
       "        fields {\n",
       "          key: \"loud\"\n",
       "          value {\n",
       "            bool_value: true\n",
       "          }\n",
       "        }\n",
       "        fields {\n",
       "          key: \"energetic\"\n",
       "          value {\n",
       "            bool_value: false\n",
       "          }\n",
       "        }\n",
       "        fields {\n",
       "          key: \"bpm\"\n",
       "          value {\n",
       "            string_value: \"60\"\n",
       "          }\n",
       "        }\n",
       "      }\n",
       "    }\n",
       "  }\n",
       "  role: \"model\",\n",
       "  parts {\n",
       "    function_response {\n",
       "      name: \"start_music\"\n",
       "      response {\n",
       "        fields {\n",
       "          key: \"content\"\n",
       "          value {\n",
       "            string_value: \"Starting music! energetic=False loud=True, bpm=\\'60\\'\"\n",
       "          }\n",
       "        }\n",
       "      }\n",
       "    }\n",
       "  }\n",
       "  role: \"function\",\n",
       "  parts {\n",
       "    text: \"I\\'ve switched to more relaxing music with a BPM of 60. The atmosphere should now be calm and soothing, perfect for winding down or enjoying some chill conversation. Let me know if you need any further adjustments!\"\n",
       "  }\n",
       "  role: \"model\",\n",
       "  parts {\n",
       "    text: \"Nice. So please go back to the initial bpm.\"\n",
       "  }\n",
       "  role: \"user\",\n",
       "  parts {\n",
       "    function_call {\n",
       "      name: \"start_music\"\n",
       "      args {\n",
       "        fields {\n",
       "          key: \"loud\"\n",
       "          value {\n",
       "            bool_value: true\n",
       "          }\n",
       "        }\n",
       "        fields {\n",
       "          key: \"energetic\"\n",
       "          value {\n",
       "            bool_value: true\n",
       "          }\n",
       "        }\n",
       "        fields {\n",
       "          key: \"bpm\"\n",
       "          value {\n",
       "            string_value: \"120\"\n",
       "          }\n",
       "        }\n",
       "      }\n",
       "    }\n",
       "  }\n",
       "  role: \"model\",\n",
       "  parts {\n",
       "    function_response {\n",
       "      name: \"start_music\"\n",
       "      response {\n",
       "        fields {\n",
       "          key: \"content\"\n",
       "          value {\n",
       "            string_value: \"Starting music! energetic=True loud=True, bpm=\\'120\\'\"\n",
       "          }\n",
       "        }\n",
       "      }\n",
       "    }\n",
       "  }\n",
       "  role: \"function\",\n",
       "  parts {\n",
       "    text: \"Alright! I\\'ve switched the music back to the initial 120 BPM. It\\'s not as relaxed as 60 BPM, but it\\'s not overly energetic either, offering a good balance for a comfortable party atmosphere. 🎶 \\n\\nFeel free to ask for any other adjustments – I\\'m here to help you set the perfect mood! 😊 \\n\"\n",
       "  }\n",
       "  role: \"model\",\n",
       "  parts {\n",
       "    text: \"OK, then turn brightness to 0.7.\"\n",
       "  }\n",
       "  role: \"user\",\n",
       "  parts {\n",
       "    text: \"Certainly! I\\'ll adjust the brightness of the lights to 0.7 for you right away.\"\n",
       "  }\n",
       "  parts {\n",
       "    function_call {\n",
       "      name: \"dim_lights\"\n",
       "      args {\n",
       "        fields {\n",
       "          key: \"brightness\"\n",
       "          value {\n",
       "            number_value: 0.7\n",
       "          }\n",
       "        }\n",
       "      }\n",
       "    }\n",
       "  }\n",
       "  role: \"model\",\n",
       "  parts {\n",
       "    function_response {\n",
       "      name: \"dim_lights\"\n",
       "      response {\n",
       "        fields {\n",
       "          key: \"content\"\n",
       "          value {\n",
       "            string_value: \"Lights are now set to 0.7\"\n",
       "          }\n",
       "        }\n",
       "      }\n",
       "    }\n",
       "  }\n",
       "  role: \"function\",\n",
       "  parts {\n",
       "    text: \"Great! I\\'ve increased the brightness of the lights to 0.7. This setting should provide a bit more illumination than before, creating a livelier atmosphere while still maintaining a party vibe. The room should now be noticeably brighter but not overly lit.\\n\\nTo recap the current party setup:\\n1. The disco ball is spinning\\n2. The music is playing at 120 BPM, energetic and loud\\n3. The lights are now set at 0.7 brightness\\n\\nIs there anything else you\\'d like to adjust or any other changes you want to make to the party atmosphere?\"\n",
       "  }\n",
       "  role: \"model\",\n",
       "  parts {\n",
       "    text: \"Finally stop the disco ball.\"\n",
       "  }\n",
       "  role: \"user\",\n",
       "  parts {\n",
       "    function_call {\n",
       "      name: \"power_disco_ball\"\n",
       "      args {\n",
       "        fields {\n",
       "          key: \"power\"\n",
       "          value {\n",
       "            bool_value: false\n",
       "          }\n",
       "        }\n",
       "      }\n",
       "    }\n",
       "  }\n",
       "  role: \"model\",\n",
       "  parts {\n",
       "    function_response {\n",
       "      name: \"power_disco_ball\"\n",
       "      response {\n",
       "        fields {\n",
       "          key: \"content\"\n",
       "          value {\n",
       "            string_value: \"Disco ball is stopped.\"\n",
       "          }\n",
       "        }\n",
       "      }\n",
       "    }\n",
       "  }\n",
       "  role: \"function\"]}"
      ]
     },
     "execution_count": 68,
     "metadata": {},
     "output_type": "execute_result"
    }
   ],
   "source": [
    "prompt = \"Finally stop the disco ball.\"\n",
    "\n",
    "response = gemini.run(prompt)\n",
    "\n",
    "response.model_dump()"
   ]
  },
  {
   "cell_type": "markdown",
   "metadata": {},
   "source": [
    "If you input non-relavant topic, any tool is not called."
   ]
  },
  {
   "cell_type": "code",
   "execution_count": 69,
   "metadata": {},
   "outputs": [
    {
     "data": {
      "text/plain": [
       "{'message': {'role': 'assistant',\n",
       "  'content': [{'text': \"I'm unable to provide real-time weather information or updates since my training only goes up to October 2023 and I don't have access to live data. However, you can check a weather website or app for the most accurate and current weather conditions in your area. If you have any other questions or need assistance, feel free to ask!\"}],\n",
       "  'name': None},\n",
       " 'usage': {'model_name': 'gpt-4o-mini-2024-07-18',\n",
       "  'prompt_tokens': 840,\n",
       "  'completion_tokens': 67},\n",
       " 'prompt': [{'role': 'user',\n",
       "   'content': [{'type': 'text',\n",
       "     'text': 'Turn this place into a comfortable party mood!'}],\n",
       "   'name': 'User'},\n",
       "  {'content': None,\n",
       "   'refusal': None,\n",
       "   'role': 'assistant',\n",
       "   'function_call': None,\n",
       "   'tool_calls': [{'id': 'call_FC5jRFdLgcEdqpLtzi5ccRYg',\n",
       "     'function': {'arguments': '{\"power\": true}', 'name': 'power_disco_ball'},\n",
       "     'type': 'function'},\n",
       "    {'id': 'call_QxykFPPxMzMvxEhJLl6WHTJt',\n",
       "     'function': {'arguments': '{\"energetic\": true, \"loud\": true, \"bpm\": \"120\"}',\n",
       "      'name': 'start_music'},\n",
       "     'type': 'function'},\n",
       "    {'id': 'call_7hxq6DIRa7OQZxQyVLBEMJjj',\n",
       "     'function': {'arguments': '{\"brightness\": 0.5}', 'name': 'dim_lights'},\n",
       "     'type': 'function'}]},\n",
       "  {'role': 'tool',\n",
       "   'tool_call_id': 'call_FC5jRFdLgcEdqpLtzi5ccRYg',\n",
       "   'name': 'power_disco_ball',\n",
       "   'content': 'Disco ball is spinning!'},\n",
       "  {'role': 'tool',\n",
       "   'tool_call_id': 'call_QxykFPPxMzMvxEhJLl6WHTJt',\n",
       "   'name': 'start_music',\n",
       "   'content': \"Starting music! energetic=True loud=True, bpm='120'\"},\n",
       "  {'role': 'tool',\n",
       "   'tool_call_id': 'call_7hxq6DIRa7OQZxQyVLBEMJjj',\n",
       "   'name': 'dim_lights',\n",
       "   'content': 'Lights are now set to 0.5'},\n",
       "  {'role': 'assistant',\n",
       "   'content': [{'type': 'text',\n",
       "     'text': 'The party mood is all set! The disco ball is spinning, energetic music is playing at a lively 120 BPM, and the lights are dimmed to create the perfect atmosphere. Let the fun begin! 🎉✨'}],\n",
       "   'name': 'Assistant'},\n",
       "  {'role': 'user',\n",
       "   'content': [{'type': 'text', 'text': 'Can you make bpm up more?'}],\n",
       "   'name': 'User'},\n",
       "  {'content': None,\n",
       "   'refusal': None,\n",
       "   'role': 'assistant',\n",
       "   'function_call': None,\n",
       "   'tool_calls': [{'id': 'call_01442NBSQwPwvfyKHhzezdrK',\n",
       "     'function': {'arguments': \"{'energetic': True, 'loud': True, 'bpm': '180'}\",\n",
       "      'name': 'start_music'},\n",
       "     'type': 'function'}]},\n",
       "  {'role': 'tool',\n",
       "   'tool_call_id': 'call_01442NBSQwPwvfyKHhzezdrK',\n",
       "   'name': 'start_music',\n",
       "   'content': \"Starting music! energetic=True loud=True, bpm='180'\"},\n",
       "  {'role': 'assistant',\n",
       "   'content': [{'type': 'text',\n",
       "     'text': \"Great! I've increased the BPM to 180, which is the highest available option. The music is now playing at a much faster tempo, perfect for an energetic dance party. The beat is quicker, and it should really get people moving on the dance floor!\\n\\nIs there anything else you'd like to adjust to enhance the party mood further?\"}],\n",
       "   'name': 'Assistant'},\n",
       "  {'role': 'user',\n",
       "   'content': [{'type': 'text', 'text': 'Please turn music more relax.'}],\n",
       "   'name': 'User'},\n",
       "  {'content': None,\n",
       "   'refusal': None,\n",
       "   'role': 'assistant',\n",
       "   'function_call': None,\n",
       "   'tool_calls': [{'id': 'call_DOIrqzbwsI47dRpNsPNXNPDV',\n",
       "     'function': {'arguments': '{\"energetic\":false,\"loud\":true,\"bpm\":\"60\"}',\n",
       "      'name': 'start_music'},\n",
       "     'type': 'function'}]},\n",
       "  {'role': 'tool',\n",
       "   'tool_call_id': 'call_DOIrqzbwsI47dRpNsPNXNPDV',\n",
       "   'name': 'start_music',\n",
       "   'content': \"Starting music! energetic=False loud=True, bpm='60'\"},\n",
       "  {'role': 'assistant',\n",
       "   'content': [{'type': 'text',\n",
       "     'text': \"I've switched to more relaxing music with a BPM of 60. The atmosphere should now be calm and soothing, perfect for winding down or enjoying some chill conversation. Let me know if you need any further adjustments!\"}],\n",
       "   'name': 'Assistant'},\n",
       "  {'role': 'user',\n",
       "   'content': [{'type': 'text',\n",
       "     'text': 'Nice. So please go back to the initial bpm.'}],\n",
       "   'name': 'User'},\n",
       "  {'content': None,\n",
       "   'refusal': None,\n",
       "   'role': 'assistant',\n",
       "   'function_call': None,\n",
       "   'tool_calls': [{'id': 'call_UwrBSKyj6GVqHOEhztSQp3Wb',\n",
       "     'function': {'arguments': \"{'loud': True, 'energetic': True, 'bpm': '120'}\",\n",
       "      'name': 'start_music'},\n",
       "     'type': 'function'}]},\n",
       "  {'role': 'tool',\n",
       "   'tool_call_id': 'call_UwrBSKyj6GVqHOEhztSQp3Wb',\n",
       "   'name': 'start_music',\n",
       "   'content': \"Starting music! energetic=True loud=True, bpm='120'\"},\n",
       "  {'role': 'assistant',\n",
       "   'content': [{'type': 'text',\n",
       "     'text': \"Alright! I've switched the music back to the initial 120 BPM. It's not as relaxed as 60 BPM, but it's not overly energetic either, offering a good balance for a comfortable party atmosphere. 🎶 \\n\\nFeel free to ask for any other adjustments – I'm here to help you set the perfect mood! 😊 \\n\"}],\n",
       "   'name': 'Assistant'},\n",
       "  {'role': 'user',\n",
       "   'content': [{'type': 'text', 'text': 'OK, then turn brightness to 0.7.'}],\n",
       "   'name': 'User'},\n",
       "  {'content': None,\n",
       "   'refusal': None,\n",
       "   'role': 'assistant',\n",
       "   'function_call': None,\n",
       "   'tool_calls': [{'id': 'call_01QKiGrxkVCHDwdY3vjBoVTh',\n",
       "     'function': {'arguments': \"{'brightness': 0.7}\", 'name': 'dim_lights'},\n",
       "     'type': 'function'}]},\n",
       "  {'role': 'tool',\n",
       "   'tool_call_id': 'call_01QKiGrxkVCHDwdY3vjBoVTh',\n",
       "   'name': 'dim_lights',\n",
       "   'content': 'Lights are now set to 0.7'},\n",
       "  {'role': 'assistant',\n",
       "   'content': [{'type': 'text',\n",
       "     'text': \"Great! I've increased the brightness of the lights to 0.7. This setting should provide a bit more illumination than before, creating a livelier atmosphere while still maintaining a party vibe. The room should now be noticeably brighter but not overly lit.\\n\\nTo recap the current party setup:\\n1. The disco ball is spinning\\n2. The music is playing at 120 BPM, energetic and loud\\n3. The lights are now set at 0.7 brightness\\n\\nIs there anything else you'd like to adjust or any other changes you want to make to the party atmosphere?\"}],\n",
       "   'name': 'Assistant'},\n",
       "  {'role': 'user',\n",
       "   'content': [{'type': 'text', 'text': 'Finally stop the disco ball.'}],\n",
       "   'name': 'User'},\n",
       "  {'content': None,\n",
       "   'refusal': None,\n",
       "   'role': 'assistant',\n",
       "   'function_call': None,\n",
       "   'tool_calls': [{'id': 'call_ekYPqMkhC8gRVRehQQkaId6Q',\n",
       "     'function': {'arguments': \"{'power': False}\", 'name': 'power_disco_ball'},\n",
       "     'type': 'function'}]},\n",
       "  {'role': 'tool',\n",
       "   'tool_call_id': 'call_ekYPqMkhC8gRVRehQQkaId6Q',\n",
       "   'name': 'power_disco_ball',\n",
       "   'content': 'Disco ball is stopped.'},\n",
       "  {'role': 'assistant',\n",
       "   'content': [{'type': 'text',\n",
       "     'text': \"No problem, I've stopped the disco ball. It's no longer spinning. \\n\\nEnjoy the rest of the party! Let me know if there's anything else I can do to help fine-tune the atmosphere. 🎉 \\n\"}],\n",
       "   'name': 'Assistant'},\n",
       "  {'role': 'user',\n",
       "   'content': [{'type': 'text', 'text': 'What is the weather today?'}],\n",
       "   'name': 'User'}]}"
      ]
     },
     "execution_count": 69,
     "metadata": {},
     "output_type": "execute_result"
    }
   ],
   "source": [
    "prompt = \"What is the weather today?\"\n",
    "\n",
    "response = chat_openai.run(prompt)\n",
    "\n",
    "response.model_dump()"
   ]
  },
  {
   "cell_type": "markdown",
   "metadata": {},
   "source": [
    "Conversation is recorded with serialized universal message format."
   ]
  },
  {
   "cell_type": "code",
   "execution_count": 70,
   "metadata": {},
   "outputs": [
    {
     "data": {
      "text/plain": [
       "[{'role': 'user',\n",
       "  'content': [{'text': 'Turn this place into a comfortable party mood!'}],\n",
       "  'name': None},\n",
       " {'role': 'function_call',\n",
       "  'content': [{'name': 'power_disco_ball',\n",
       "    'args': '{\"power\": true}',\n",
       "    'call_id': 'call_FC5jRFdLgcEdqpLtzi5ccRYg'},\n",
       "   {'name': 'start_music',\n",
       "    'args': '{\"energetic\": true, \"loud\": true, \"bpm\": \"120\"}',\n",
       "    'call_id': 'call_QxykFPPxMzMvxEhJLl6WHTJt'},\n",
       "   {'name': 'dim_lights',\n",
       "    'args': '{\"brightness\": 0.5}',\n",
       "    'call_id': 'call_7hxq6DIRa7OQZxQyVLBEMJjj'}],\n",
       "  'name': None},\n",
       " {'role': 'function',\n",
       "  'content': [{'output': 'Disco ball is spinning!',\n",
       "    'call_id': 'call_FC5jRFdLgcEdqpLtzi5ccRYg',\n",
       "    'args': '{\"power\": true}',\n",
       "    'funcname': 'power_disco_ball'},\n",
       "   {'output': \"Starting music! energetic=True loud=True, bpm='120'\",\n",
       "    'call_id': 'call_QxykFPPxMzMvxEhJLl6WHTJt',\n",
       "    'args': '{\"energetic\": true, \"loud\": true, \"bpm\": \"120\"}',\n",
       "    'funcname': 'start_music'},\n",
       "   {'output': 'Lights are now set to 0.5',\n",
       "    'call_id': 'call_7hxq6DIRa7OQZxQyVLBEMJjj',\n",
       "    'args': '{\"brightness\": 0.5}',\n",
       "    'funcname': 'dim_lights'}],\n",
       "  'name': None},\n",
       " {'role': 'assistant',\n",
       "  'content': [{'text': 'The party mood is all set! The disco ball is spinning, energetic music is playing at a lively 120 BPM, and the lights are dimmed to create the perfect atmosphere. Let the fun begin! 🎉✨'}],\n",
       "  'name': None},\n",
       " {'role': 'user',\n",
       "  'content': [{'text': 'Can you make bpm up more?'}],\n",
       "  'name': None},\n",
       " {'role': 'function_call',\n",
       "  'content': [{'text': \"Certainly! I can increase the BPM (beats per minute) of the music to make it more upbeat and energetic. The highest BPM option available is 180, which will definitely amp up the party atmosphere. Let's make that change for you.\"},\n",
       "   {'name': 'start_music',\n",
       "    'args': {'energetic': True, 'loud': True, 'bpm': '180'},\n",
       "    'call_id': 'toolu_01442NBSQwPwvfyKHhzezdrK'}],\n",
       "  'name': None},\n",
       " {'role': 'function',\n",
       "  'content': [{'output': \"Starting music! energetic=True loud=True, bpm='180'\",\n",
       "    'call_id': 'toolu_01442NBSQwPwvfyKHhzezdrK',\n",
       "    'args': '{\"energetic\": true, \"loud\": true, \"bpm\": \"180\"}',\n",
       "    'funcname': 'start_music'}],\n",
       "  'name': None},\n",
       " {'role': 'assistant',\n",
       "  'content': [{'text': \"Great! I've increased the BPM to 180, which is the highest available option. The music is now playing at a much faster tempo, perfect for an energetic dance party. The beat is quicker, and it should really get people moving on the dance floor!\\n\\nIs there anything else you'd like to adjust to enhance the party mood further?\"}],\n",
       "  'name': None},\n",
       " {'role': 'user',\n",
       "  'content': [{'text': 'Please turn music more relax.'}],\n",
       "  'name': None},\n",
       " {'role': 'function_call',\n",
       "  'content': [{'name': 'start_music',\n",
       "    'args': '{\"energetic\":false,\"loud\":true,\"bpm\":\"60\"}',\n",
       "    'call_id': 'call_DOIrqzbwsI47dRpNsPNXNPDV'}],\n",
       "  'name': None},\n",
       " {'role': 'function',\n",
       "  'content': [{'output': \"Starting music! energetic=False loud=True, bpm='60'\",\n",
       "    'call_id': 'call_DOIrqzbwsI47dRpNsPNXNPDV',\n",
       "    'args': '{\"energetic\":false,\"loud\":true,\"bpm\":\"60\"}',\n",
       "    'funcname': 'start_music'}],\n",
       "  'name': None},\n",
       " {'role': 'assistant',\n",
       "  'content': [{'text': \"I've switched to more relaxing music with a BPM of 60. The atmosphere should now be calm and soothing, perfect for winding down or enjoying some chill conversation. Let me know if you need any further adjustments!\"}],\n",
       "  'name': None},\n",
       " {'role': 'user',\n",
       "  'content': [{'text': 'Nice. So please go back to the initial bpm.'}],\n",
       "  'name': None},\n",
       " {'role': 'function_call',\n",
       "  'content': [{'name': 'start_music',\n",
       "    'args': {'loud': True, 'energetic': True, 'bpm': '120'},\n",
       "    'call_id': 'UwrBSKyj6GVqHOEhztSQp3Wb'}],\n",
       "  'name': None},\n",
       " {'role': 'function',\n",
       "  'content': [{'output': \"Starting music! energetic=True loud=True, bpm='120'\",\n",
       "    'call_id': 'UwrBSKyj6GVqHOEhztSQp3Wb',\n",
       "    'args': '{\"loud\": true, \"energetic\": true, \"bpm\": \"120\"}',\n",
       "    'funcname': 'start_music'}],\n",
       "  'name': None},\n",
       " {'role': 'assistant',\n",
       "  'content': [{'text': \"Alright! I've switched the music back to the initial 120 BPM. It's not as relaxed as 60 BPM, but it's not overly energetic either, offering a good balance for a comfortable party atmosphere. 🎶 \\n\\nFeel free to ask for any other adjustments – I'm here to help you set the perfect mood! 😊 \\n\"}],\n",
       "  'name': None},\n",
       " {'role': 'user',\n",
       "  'content': [{'text': 'OK, then turn brightness to 0.7.'}],\n",
       "  'name': None},\n",
       " {'role': 'function_call',\n",
       "  'content': [{'text': \"Certainly! I'll adjust the brightness of the lights to 0.7 for you right away.\"},\n",
       "   {'name': 'dim_lights',\n",
       "    'args': {'brightness': 0.7},\n",
       "    'call_id': 'toolu_01QKiGrxkVCHDwdY3vjBoVTh'}],\n",
       "  'name': None},\n",
       " {'role': 'function',\n",
       "  'content': [{'output': 'Lights are now set to 0.7',\n",
       "    'call_id': 'toolu_01QKiGrxkVCHDwdY3vjBoVTh',\n",
       "    'args': '{\"brightness\": 0.7}',\n",
       "    'funcname': 'dim_lights'}],\n",
       "  'name': None},\n",
       " {'role': 'assistant',\n",
       "  'content': [{'text': \"Great! I've increased the brightness of the lights to 0.7. This setting should provide a bit more illumination than before, creating a livelier atmosphere while still maintaining a party vibe. The room should now be noticeably brighter but not overly lit.\\n\\nTo recap the current party setup:\\n1. The disco ball is spinning\\n2. The music is playing at 120 BPM, energetic and loud\\n3. The lights are now set at 0.7 brightness\\n\\nIs there anything else you'd like to adjust or any other changes you want to make to the party atmosphere?\"}],\n",
       "  'name': None},\n",
       " {'role': 'user',\n",
       "  'content': [{'text': 'Finally stop the disco ball.'}],\n",
       "  'name': None},\n",
       " {'role': 'function_call',\n",
       "  'content': [{'name': 'power_disco_ball',\n",
       "    'args': {'power': False},\n",
       "    'call_id': 'ekYPqMkhC8gRVRehQQkaId6Q'}],\n",
       "  'name': None},\n",
       " {'role': 'function',\n",
       "  'content': [{'output': 'Disco ball is stopped.',\n",
       "    'call_id': 'ekYPqMkhC8gRVRehQQkaId6Q',\n",
       "    'args': '{\"power\": false}',\n",
       "    'funcname': 'power_disco_ball'}],\n",
       "  'name': None},\n",
       " {'role': 'assistant',\n",
       "  'content': [{'text': \"No problem, I've stopped the disco ball. It's no longer spinning. \\n\\nEnjoy the rest of the party! Let me know if there's anything else I can do to help fine-tune the atmosphere. 🎉 \\n\"}],\n",
       "  'name': None},\n",
       " {'role': 'user',\n",
       "  'content': [{'text': 'What is the weather today?'}],\n",
       "  'name': None},\n",
       " {'role': 'assistant',\n",
       "  'content': [{'text': \"I'm unable to provide real-time weather information or updates since my training only goes up to October 2023 and I don't have access to live data. However, you can check a weather website or app for the most accurate and current weather conditions in your area. If you have any other questions or need assistance, feel free to ask!\"}],\n",
       "  'name': None}]"
      ]
     },
     "execution_count": 70,
     "metadata": {},
     "output_type": "execute_result"
    }
   ],
   "source": [
    "shared_memory.load()"
   ]
  },
  {
   "cell_type": "markdown",
   "metadata": {},
   "source": [
    "# Multi-turn conversation with tools and context truncation"
   ]
  },
  {
   "cell_type": "markdown",
   "metadata": {},
   "source": [
    "Although context truncation doesn't work accurately if we use tools, but truncation is useful for token management to some extent."
   ]
  },
  {
   "cell_type": "code",
   "execution_count": 71,
   "metadata": {},
   "outputs": [],
   "source": [
    "from langrila import InMemoryConversationMemory\n",
    "\n",
    "chat_openai = OpenAIFunctionalChat(\n",
    "    api_key_env_name=\"API_KEY\",\n",
    "    model_name=\"gpt-4o-mini-2024-07-18\",\n",
    "    tools=[power_disco_ball, start_music, dim_lights],\n",
    "    tool_configs=tool_configs,\n",
    "    conversation_memory=InMemoryConversationMemory(),\n",
    "    context_length=50,\n",
    ")"
   ]
  },
  {
   "cell_type": "code",
   "execution_count": 72,
   "metadata": {},
   "outputs": [],
   "source": [
    "prompt = \"Turn this place into a comfortable party mood!\"\n",
    "\n",
    "response = chat_openai.run(prompt, tool_choice=\"auto\")"
   ]
  },
  {
   "cell_type": "code",
   "execution_count": 73,
   "metadata": {},
   "outputs": [
    {
     "name": "stdout",
     "output_type": "stream",
     "text": [
      "Input message is truncated because total length of messages exceeds context length.\n",
      "Input message is truncated because total length of messages exceeds context length.\n"
     ]
    }
   ],
   "source": [
    "prompt = \"Can you make bpm up more?\"\n",
    "\n",
    "response = chat_openai.run(prompt=prompt, tool_choice=\"auto\")"
   ]
  },
  {
   "cell_type": "markdown",
   "metadata": {},
   "source": [
    "User message and assistant message are target of truncation while tool call message and tool result message is not."
   ]
  },
  {
   "cell_type": "code",
   "execution_count": 74,
   "metadata": {},
   "outputs": [
    {
     "name": "stdout",
     "output_type": "stream",
     "text": [
      "The music BPM has been increased to 180! Get ready to dance! 🎶💃🕺\n"
     ]
    }
   ],
   "source": [
    "print(response.message.content[0].text)"
   ]
  },
  {
   "cell_type": "code",
   "execution_count": 75,
   "metadata": {},
   "outputs": [
    {
     "data": {
      "text/plain": [
       "Usage(prompt_tokens=212, completion_tokens=22, total_tokens=234)"
      ]
     },
     "execution_count": 75,
     "metadata": {},
     "output_type": "execute_result"
    }
   ],
   "source": [
    "response.usage"
   ]
  },
  {
   "cell_type": "code",
   "execution_count": 76,
   "metadata": {},
   "outputs": [
    {
     "data": {
      "text/plain": [
       "[{'content': None,\n",
       "  'refusal': None,\n",
       "  'role': 'assistant',\n",
       "  'function_call': None,\n",
       "  'tool_calls': [{'id': 'call_oBDXjJKvOAMcwTPBAYVDDGdY',\n",
       "    'function': {'arguments': '{\"brightness\": 0.5}', 'name': 'dim_lights'},\n",
       "    'type': 'function'},\n",
       "   {'id': 'call_zIEXOL3BZiecD9yidM08GYTC',\n",
       "    'function': {'arguments': '{\"power\": true}', 'name': 'power_disco_ball'},\n",
       "    'type': 'function'},\n",
       "   {'id': 'call_aR9ce1rY5DqmzxR9NBry62QP',\n",
       "    'function': {'arguments': '{\"energetic\": true, \"loud\": true, \"bpm\": \"120\"}',\n",
       "     'name': 'start_music'},\n",
       "    'type': 'function'}]},\n",
       " {'role': 'tool',\n",
       "  'tool_call_id': 'call_oBDXjJKvOAMcwTPBAYVDDGdY',\n",
       "  'name': 'dim_lights',\n",
       "  'content': 'Lights are now set to 0.5'},\n",
       " {'role': 'tool',\n",
       "  'tool_call_id': 'call_zIEXOL3BZiecD9yidM08GYTC',\n",
       "  'name': 'power_disco_ball',\n",
       "  'content': 'Disco ball is spinning!'},\n",
       " {'role': 'tool',\n",
       "  'tool_call_id': 'call_aR9ce1rY5DqmzxR9NBry62QP',\n",
       "  'name': 'start_music',\n",
       "  'content': \"Starting music! energetic=True loud=True, bpm='120'\"},\n",
       " {'role': 'assistant',\n",
       "  'name': 'Assistant',\n",
       "  'content': [{'type': 'text',\n",
       "    'text': ' a cozy brightness, the disco ball is spinning, and energetic music is playing at a lively tempo. Enjoy the celebration! 🎉✨'}]},\n",
       " {'role': 'user',\n",
       "  'content': [{'type': 'text', 'text': 'Can you make bpm up more?'}],\n",
       "  'name': 'User'},\n",
       " {'content': None,\n",
       "  'refusal': None,\n",
       "  'role': 'assistant',\n",
       "  'function_call': None,\n",
       "  'tool_calls': [{'id': 'call_r1uYRiO3EfrmOx14rZfBVrRX',\n",
       "    'function': {'arguments': '{\"energetic\":true,\"loud\":true,\"bpm\":\"180\"}',\n",
       "     'name': 'start_music'},\n",
       "    'type': 'function'}]},\n",
       " {'role': 'tool',\n",
       "  'tool_call_id': 'call_r1uYRiO3EfrmOx14rZfBVrRX',\n",
       "  'name': 'start_music',\n",
       "  'content': \"Starting music! energetic=True loud=True, bpm='180'\"}]"
      ]
     },
     "execution_count": 76,
     "metadata": {},
     "output_type": "execute_result"
    }
   ],
   "source": [
    "response.prompt"
   ]
  },
  {
   "cell_type": "code",
   "execution_count": 77,
   "metadata": {},
   "outputs": [
    {
     "data": {
      "text/plain": [
       "[{'role': 'user',\n",
       "  'content': [{'text': 'Turn this place into a comfortable party mood!'}],\n",
       "  'name': None},\n",
       " {'role': 'function_call',\n",
       "  'content': [{'name': 'dim_lights',\n",
       "    'args': '{\"brightness\": 0.5}',\n",
       "    'call_id': 'call_oBDXjJKvOAMcwTPBAYVDDGdY'},\n",
       "   {'name': 'power_disco_ball',\n",
       "    'args': '{\"power\": true}',\n",
       "    'call_id': 'call_zIEXOL3BZiecD9yidM08GYTC'},\n",
       "   {'name': 'start_music',\n",
       "    'args': '{\"energetic\": true, \"loud\": true, \"bpm\": \"120\"}',\n",
       "    'call_id': 'call_aR9ce1rY5DqmzxR9NBry62QP'}],\n",
       "  'name': None},\n",
       " {'role': 'function',\n",
       "  'content': [{'output': 'Lights are now set to 0.5',\n",
       "    'call_id': 'call_oBDXjJKvOAMcwTPBAYVDDGdY',\n",
       "    'args': '{\"brightness\": 0.5}',\n",
       "    'funcname': 'dim_lights'},\n",
       "   {'output': 'Disco ball is spinning!',\n",
       "    'call_id': 'call_zIEXOL3BZiecD9yidM08GYTC',\n",
       "    'args': '{\"power\": true}',\n",
       "    'funcname': 'power_disco_ball'},\n",
       "   {'output': \"Starting music! energetic=True loud=True, bpm='120'\",\n",
       "    'call_id': 'call_aR9ce1rY5DqmzxR9NBry62QP',\n",
       "    'args': '{\"energetic\": true, \"loud\": true, \"bpm\": \"120\"}',\n",
       "    'funcname': 'start_music'}],\n",
       "  'name': None},\n",
       " {'role': 'assistant',\n",
       "  'content': [{'text': 'The atmosphere is now perfect for a party! The lights are dimmed to a cozy brightness, the disco ball is spinning, and energetic music is playing at a lively tempo. Enjoy the celebration! 🎉✨'}],\n",
       "  'name': None},\n",
       " {'role': 'user',\n",
       "  'content': [{'text': 'Can you make bpm up more?'}],\n",
       "  'name': None},\n",
       " {'role': 'function_call',\n",
       "  'content': [{'name': 'start_music',\n",
       "    'args': '{\"energetic\":true,\"loud\":true,\"bpm\":\"180\"}',\n",
       "    'call_id': 'call_r1uYRiO3EfrmOx14rZfBVrRX'}],\n",
       "  'name': None},\n",
       " {'role': 'function',\n",
       "  'content': [{'output': \"Starting music! energetic=True loud=True, bpm='180'\",\n",
       "    'call_id': 'call_r1uYRiO3EfrmOx14rZfBVrRX',\n",
       "    'args': '{\"energetic\":true,\"loud\":true,\"bpm\":\"180\"}',\n",
       "    'funcname': 'start_music'}],\n",
       "  'name': None},\n",
       " {'role': 'assistant',\n",
       "  'content': [{'text': 'The music BPM has been increased to 180! Get ready to dance! 🎶💃🕺'}],\n",
       "  'name': None}]"
      ]
     },
     "execution_count": 77,
     "metadata": {},
     "output_type": "execute_result"
    }
   ],
   "source": [
    "# whole history\n",
    "chat_openai.conversation_memory.load()"
   ]
  },
  {
   "cell_type": "code",
   "execution_count": null,
   "metadata": {},
   "outputs": [],
   "source": []
  }
 ],
 "metadata": {
  "kernelspec": {
   "display_name": ".venv",
   "language": "python",
   "name": "python3"
  },
  "language_info": {
   "codemirror_mode": {
    "name": "ipython",
    "version": 3
   },
   "file_extension": ".py",
   "mimetype": "text/x-python",
   "name": "python",
   "nbconvert_exporter": "python",
   "pygments_lexer": "ipython3",
   "version": "3.10.12"
  }
 },
 "nbformat": 4,
 "nbformat_minor": 4
}
